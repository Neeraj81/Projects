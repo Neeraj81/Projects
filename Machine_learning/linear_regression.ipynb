{
 "cells": [
  {
   "cell_type": "markdown",
   "metadata": {
    "id": "bbKgaVL9ul1F"
   },
   "source": [
    "<!--#  **ML Campus Batch Aug 2022 - Bangalore**\n",
    "### Assignment 2 -\n",
    "-->Linear Regression\n",
    "<!--\n",
    "###### submitted by: Neeraj Ganji \n",
    "###### submitted on: 10th OCT 2022\n",
    "\n",
    "ID: 23133\n",
    "-->"
   ]
  },
  {
   "cell_type": "markdown",
   "metadata": {
    "id": "1_bmwM2z-3fs"
   },
   "source": [
    "##### importing libraries"
   ]
  },
  {
   "cell_type": "code",
   "execution_count": null,
   "metadata": {
    "id": "s5vVIjz1uEpR"
   },
   "outputs": [],
   "source": [
    "import numpy as np\n",
    "import pandas as pd\n",
    "import matplotlib.pyplot as plt\n",
    "import seaborn as sns \n",
    "%matplotlib inline\n",
    "import matplotlib\n",
    "matplotlib.style.use('ggplot')"
   ]
  },
  {
   "cell_type": "markdown",
   "metadata": {
    "id": "aU-Qys6K-6JZ"
   },
   "source": [
    "##### importing the dataset"
   ]
  },
  {
   "cell_type": "code",
   "execution_count": null,
   "metadata": {
    "colab": {
     "base_uri": "https://localhost:8080/",
     "height": 206
    },
    "id": "y2tJtiQmu_GB",
    "outputId": "8ab857ed-28ce-4c6c-fd65-448cb06926b4"
   },
   "outputs": [
    {
     "data": {
      "text/html": [
       "\n",
       "  <div id=\"df-983eaf57-0955-4961-aba4-f1d01beb807b\">\n",
       "    <div class=\"colab-df-container\">\n",
       "      <div>\n",
       "<style scoped>\n",
       "    .dataframe tbody tr th:only-of-type {\n",
       "        vertical-align: middle;\n",
       "    }\n",
       "\n",
       "    .dataframe tbody tr th {\n",
       "        vertical-align: top;\n",
       "    }\n",
       "\n",
       "    .dataframe thead th {\n",
       "        text-align: right;\n",
       "    }\n",
       "</style>\n",
       "<table border=\"1\" class=\"dataframe\">\n",
       "  <thead>\n",
       "    <tr style=\"text-align: right;\">\n",
       "      <th></th>\n",
       "      <th>0</th>\n",
       "      <th>1</th>\n",
       "    </tr>\n",
       "  </thead>\n",
       "  <tbody>\n",
       "    <tr>\n",
       "      <th>0</th>\n",
       "      <td>32.502345</td>\n",
       "      <td>31.707006</td>\n",
       "    </tr>\n",
       "    <tr>\n",
       "      <th>1</th>\n",
       "      <td>53.426804</td>\n",
       "      <td>68.777596</td>\n",
       "    </tr>\n",
       "    <tr>\n",
       "      <th>2</th>\n",
       "      <td>61.530358</td>\n",
       "      <td>62.562382</td>\n",
       "    </tr>\n",
       "    <tr>\n",
       "      <th>3</th>\n",
       "      <td>47.475640</td>\n",
       "      <td>71.546632</td>\n",
       "    </tr>\n",
       "    <tr>\n",
       "      <th>4</th>\n",
       "      <td>59.813208</td>\n",
       "      <td>87.230925</td>\n",
       "    </tr>\n",
       "  </tbody>\n",
       "</table>\n",
       "</div>\n",
       "      <button class=\"colab-df-convert\" onclick=\"convertToInteractive('df-983eaf57-0955-4961-aba4-f1d01beb807b')\"\n",
       "              title=\"Convert this dataframe to an interactive table.\"\n",
       "              style=\"display:none;\">\n",
       "        \n",
       "  <svg xmlns=\"http://www.w3.org/2000/svg\" height=\"24px\"viewBox=\"0 0 24 24\"\n",
       "       width=\"24px\">\n",
       "    <path d=\"M0 0h24v24H0V0z\" fill=\"none\"/>\n",
       "    <path d=\"M18.56 5.44l.94 2.06.94-2.06 2.06-.94-2.06-.94-.94-2.06-.94 2.06-2.06.94zm-11 1L8.5 8.5l.94-2.06 2.06-.94-2.06-.94L8.5 2.5l-.94 2.06-2.06.94zm10 10l.94 2.06.94-2.06 2.06-.94-2.06-.94-.94-2.06-.94 2.06-2.06.94z\"/><path d=\"M17.41 7.96l-1.37-1.37c-.4-.4-.92-.59-1.43-.59-.52 0-1.04.2-1.43.59L10.3 9.45l-7.72 7.72c-.78.78-.78 2.05 0 2.83L4 21.41c.39.39.9.59 1.41.59.51 0 1.02-.2 1.41-.59l7.78-7.78 2.81-2.81c.8-.78.8-2.07 0-2.86zM5.41 20L4 18.59l7.72-7.72 1.47 1.35L5.41 20z\"/>\n",
       "  </svg>\n",
       "      </button>\n",
       "      \n",
       "  <style>\n",
       "    .colab-df-container {\n",
       "      display:flex;\n",
       "      flex-wrap:wrap;\n",
       "      gap: 12px;\n",
       "    }\n",
       "\n",
       "    .colab-df-convert {\n",
       "      background-color: #E8F0FE;\n",
       "      border: none;\n",
       "      border-radius: 50%;\n",
       "      cursor: pointer;\n",
       "      display: none;\n",
       "      fill: #1967D2;\n",
       "      height: 32px;\n",
       "      padding: 0 0 0 0;\n",
       "      width: 32px;\n",
       "    }\n",
       "\n",
       "    .colab-df-convert:hover {\n",
       "      background-color: #E2EBFA;\n",
       "      box-shadow: 0px 1px 2px rgba(60, 64, 67, 0.3), 0px 1px 3px 1px rgba(60, 64, 67, 0.15);\n",
       "      fill: #174EA6;\n",
       "    }\n",
       "\n",
       "    [theme=dark] .colab-df-convert {\n",
       "      background-color: #3B4455;\n",
       "      fill: #D2E3FC;\n",
       "    }\n",
       "\n",
       "    [theme=dark] .colab-df-convert:hover {\n",
       "      background-color: #434B5C;\n",
       "      box-shadow: 0px 1px 3px 1px rgba(0, 0, 0, 0.15);\n",
       "      filter: drop-shadow(0px 1px 2px rgba(0, 0, 0, 0.3));\n",
       "      fill: #FFFFFF;\n",
       "    }\n",
       "  </style>\n",
       "\n",
       "      <script>\n",
       "        const buttonEl =\n",
       "          document.querySelector('#df-983eaf57-0955-4961-aba4-f1d01beb807b button.colab-df-convert');\n",
       "        buttonEl.style.display =\n",
       "          google.colab.kernel.accessAllowed ? 'block' : 'none';\n",
       "\n",
       "        async function convertToInteractive(key) {\n",
       "          const element = document.querySelector('#df-983eaf57-0955-4961-aba4-f1d01beb807b');\n",
       "          const dataTable =\n",
       "            await google.colab.kernel.invokeFunction('convertToInteractive',\n",
       "                                                     [key], {});\n",
       "          if (!dataTable) return;\n",
       "\n",
       "          const docLinkHtml = 'Like what you see? Visit the ' +\n",
       "            '<a target=\"_blank\" href=https://colab.research.google.com/notebooks/data_table.ipynb>data table notebook</a>'\n",
       "            + ' to learn more about interactive tables.';\n",
       "          element.innerHTML = '';\n",
       "          dataTable['output_type'] = 'display_data';\n",
       "          await google.colab.output.renderOutput(dataTable, element);\n",
       "          const docLink = document.createElement('div');\n",
       "          docLink.innerHTML = docLinkHtml;\n",
       "          element.appendChild(docLink);\n",
       "        }\n",
       "      </script>\n",
       "    </div>\n",
       "  </div>\n",
       "  "
      ],
      "text/plain": [
       "           0          1\n",
       "0  32.502345  31.707006\n",
       "1  53.426804  68.777596\n",
       "2  61.530358  62.562382\n",
       "3  47.475640  71.546632\n",
       "4  59.813208  87.230925"
      ]
     },
     "execution_count": 2,
     "metadata": {},
     "output_type": "execute_result"
    }
   ],
   "source": [
    "data = pd.read_csv('/content/assignment2_data.csv', header=None)\n",
    "data.head()"
   ]
  },
  {
   "cell_type": "markdown",
   "metadata": {
    "id": "7TMXUZHb--ZO"
   },
   "source": [
    "##### Renaming the heading to X,Y"
   ]
  },
  {
   "cell_type": "code",
   "execution_count": null,
   "metadata": {
    "colab": {
     "base_uri": "https://localhost:8080/",
     "height": 206
    },
    "id": "_WXJMMiAvgGd",
    "outputId": "f58bcbec-2e87-4cfc-e3d6-e26f10e7b56d"
   },
   "outputs": [
    {
     "data": {
      "text/html": [
       "\n",
       "  <div id=\"df-bc630179-6161-49f2-b576-f810a4353798\">\n",
       "    <div class=\"colab-df-container\">\n",
       "      <div>\n",
       "<style scoped>\n",
       "    .dataframe tbody tr th:only-of-type {\n",
       "        vertical-align: middle;\n",
       "    }\n",
       "\n",
       "    .dataframe tbody tr th {\n",
       "        vertical-align: top;\n",
       "    }\n",
       "\n",
       "    .dataframe thead th {\n",
       "        text-align: right;\n",
       "    }\n",
       "</style>\n",
       "<table border=\"1\" class=\"dataframe\">\n",
       "  <thead>\n",
       "    <tr style=\"text-align: right;\">\n",
       "      <th></th>\n",
       "      <th>X</th>\n",
       "      <th>Y</th>\n",
       "    </tr>\n",
       "  </thead>\n",
       "  <tbody>\n",
       "    <tr>\n",
       "      <th>0</th>\n",
       "      <td>32.502345</td>\n",
       "      <td>31.707006</td>\n",
       "    </tr>\n",
       "    <tr>\n",
       "      <th>1</th>\n",
       "      <td>53.426804</td>\n",
       "      <td>68.777596</td>\n",
       "    </tr>\n",
       "    <tr>\n",
       "      <th>2</th>\n",
       "      <td>61.530358</td>\n",
       "      <td>62.562382</td>\n",
       "    </tr>\n",
       "    <tr>\n",
       "      <th>3</th>\n",
       "      <td>47.475640</td>\n",
       "      <td>71.546632</td>\n",
       "    </tr>\n",
       "    <tr>\n",
       "      <th>4</th>\n",
       "      <td>59.813208</td>\n",
       "      <td>87.230925</td>\n",
       "    </tr>\n",
       "  </tbody>\n",
       "</table>\n",
       "</div>\n",
       "      <button class=\"colab-df-convert\" onclick=\"convertToInteractive('df-bc630179-6161-49f2-b576-f810a4353798')\"\n",
       "              title=\"Convert this dataframe to an interactive table.\"\n",
       "              style=\"display:none;\">\n",
       "        \n",
       "  <svg xmlns=\"http://www.w3.org/2000/svg\" height=\"24px\"viewBox=\"0 0 24 24\"\n",
       "       width=\"24px\">\n",
       "    <path d=\"M0 0h24v24H0V0z\" fill=\"none\"/>\n",
       "    <path d=\"M18.56 5.44l.94 2.06.94-2.06 2.06-.94-2.06-.94-.94-2.06-.94 2.06-2.06.94zm-11 1L8.5 8.5l.94-2.06 2.06-.94-2.06-.94L8.5 2.5l-.94 2.06-2.06.94zm10 10l.94 2.06.94-2.06 2.06-.94-2.06-.94-.94-2.06-.94 2.06-2.06.94z\"/><path d=\"M17.41 7.96l-1.37-1.37c-.4-.4-.92-.59-1.43-.59-.52 0-1.04.2-1.43.59L10.3 9.45l-7.72 7.72c-.78.78-.78 2.05 0 2.83L4 21.41c.39.39.9.59 1.41.59.51 0 1.02-.2 1.41-.59l7.78-7.78 2.81-2.81c.8-.78.8-2.07 0-2.86zM5.41 20L4 18.59l7.72-7.72 1.47 1.35L5.41 20z\"/>\n",
       "  </svg>\n",
       "      </button>\n",
       "      \n",
       "  <style>\n",
       "    .colab-df-container {\n",
       "      display:flex;\n",
       "      flex-wrap:wrap;\n",
       "      gap: 12px;\n",
       "    }\n",
       "\n",
       "    .colab-df-convert {\n",
       "      background-color: #E8F0FE;\n",
       "      border: none;\n",
       "      border-radius: 50%;\n",
       "      cursor: pointer;\n",
       "      display: none;\n",
       "      fill: #1967D2;\n",
       "      height: 32px;\n",
       "      padding: 0 0 0 0;\n",
       "      width: 32px;\n",
       "    }\n",
       "\n",
       "    .colab-df-convert:hover {\n",
       "      background-color: #E2EBFA;\n",
       "      box-shadow: 0px 1px 2px rgba(60, 64, 67, 0.3), 0px 1px 3px 1px rgba(60, 64, 67, 0.15);\n",
       "      fill: #174EA6;\n",
       "    }\n",
       "\n",
       "    [theme=dark] .colab-df-convert {\n",
       "      background-color: #3B4455;\n",
       "      fill: #D2E3FC;\n",
       "    }\n",
       "\n",
       "    [theme=dark] .colab-df-convert:hover {\n",
       "      background-color: #434B5C;\n",
       "      box-shadow: 0px 1px 3px 1px rgba(0, 0, 0, 0.15);\n",
       "      filter: drop-shadow(0px 1px 2px rgba(0, 0, 0, 0.3));\n",
       "      fill: #FFFFFF;\n",
       "    }\n",
       "  </style>\n",
       "\n",
       "      <script>\n",
       "        const buttonEl =\n",
       "          document.querySelector('#df-bc630179-6161-49f2-b576-f810a4353798 button.colab-df-convert');\n",
       "        buttonEl.style.display =\n",
       "          google.colab.kernel.accessAllowed ? 'block' : 'none';\n",
       "\n",
       "        async function convertToInteractive(key) {\n",
       "          const element = document.querySelector('#df-bc630179-6161-49f2-b576-f810a4353798');\n",
       "          const dataTable =\n",
       "            await google.colab.kernel.invokeFunction('convertToInteractive',\n",
       "                                                     [key], {});\n",
       "          if (!dataTable) return;\n",
       "\n",
       "          const docLinkHtml = 'Like what you see? Visit the ' +\n",
       "            '<a target=\"_blank\" href=https://colab.research.google.com/notebooks/data_table.ipynb>data table notebook</a>'\n",
       "            + ' to learn more about interactive tables.';\n",
       "          element.innerHTML = '';\n",
       "          dataTable['output_type'] = 'display_data';\n",
       "          await google.colab.output.renderOutput(dataTable, element);\n",
       "          const docLink = document.createElement('div');\n",
       "          docLink.innerHTML = docLinkHtml;\n",
       "          element.appendChild(docLink);\n",
       "        }\n",
       "      </script>\n",
       "    </div>\n",
       "  </div>\n",
       "  "
      ],
      "text/plain": [
       "           X          Y\n",
       "0  32.502345  31.707006\n",
       "1  53.426804  68.777596\n",
       "2  61.530358  62.562382\n",
       "3  47.475640  71.546632\n",
       "4  59.813208  87.230925"
      ]
     },
     "execution_count": 3,
     "metadata": {},
     "output_type": "execute_result"
    }
   ],
   "source": [
    "data.rename(columns={0: \"X\", 1: 'Y'}, inplace=True)\n",
    "data.head()"
   ]
  },
  {
   "cell_type": "code",
   "execution_count": null,
   "metadata": {
    "colab": {
     "base_uri": "https://localhost:8080/"
    },
    "id": "xi7livxovyk6",
    "outputId": "ecfa5a57-d09a-43a4-d7f0-8f9333b7731e"
   },
   "outputs": [
    {
     "name": "stdout",
     "output_type": "stream",
     "text": [
      "Shape of the Data:  (100, 2)\n"
     ]
    }
   ],
   "source": [
    "print(\"Shape of the Data: \",data.shape)"
   ]
  },
  {
   "cell_type": "markdown",
   "metadata": {
    "id": "mLF2ytvD_GGJ"
   },
   "source": [
    "##### scatterplot of given dataset"
   ]
  },
  {
   "cell_type": "code",
   "execution_count": null,
   "metadata": {
    "colab": {
     "base_uri": "https://localhost:8080/",
     "height": 500
    },
    "id": "jVhGEF2gvqXK",
    "outputId": "39beebfe-66aa-45f7-d259-702b9250acf0"
   },
   "outputs": [
    {
     "data": {
      "image/png": "[encoded data removed]",
      "text/plain": [
       "<Figure size 864x576 with 1 Axes>"
      ]
     },
     "metadata": {},
     "output_type": "display_data"
    }
   ],
   "source": [
    "plt.figure(figsize = (12,8))\n",
    "plot = sns.scatterplot(x='X', y='Y', data=data)\n",
    "plt.xlabel('X - Input')\n",
    "plt.ylabel('Y - Input')\n",
    "plt.gca().set_title(\"X vs Y as per dataset\")\n",
    "plt.show()"
   ]
  },
  {
   "cell_type": "markdown",
   "metadata": {
    "id": "F-UBkX_K_Mnk"
   },
   "source": [
    "##### Defining cost function"
   ]
  },
  {
   "cell_type": "code",
   "execution_count": null,
   "metadata": {
    "id": "lqWZfTc1wA_j"
   },
   "outputs": [],
   "source": [
    "def cost_function(y_real , y_pred , n):\n",
    "  cost = (1/n) * sum([i**2 for i in (y_real-y_pred)])\n",
    "  return cost"
   ]
  },
  {
   "cell_type": "markdown",
   "metadata": {
    "id": "MxUpORp2_WYZ"
   },
   "source": [
    "##### Defining the X,Y,N"
   ]
  },
  {
   "cell_type": "code",
   "execution_count": null,
   "metadata": {
    "id": "SjCmdIK2_QO9"
   },
   "outputs": [],
   "source": [
    "X = data[\"X\"].values\n",
    "Y = data[\"Y\"].values\n",
    "n = len(X)\n",
    "Cost_function=[]"
   ]
  },
  {
   "cell_type": "markdown",
   "metadata": {
    "id": "lZhKANlb_RCF"
   },
   "source": [
    "##### Defining gradient descent function\n"
   ]
  },
  {
   "cell_type": "code",
   "execution_count": null,
   "metadata": {
    "id": "ezMVw5mBwdlN"
   },
   "outputs": [],
   "source": [
    "\n",
    "def gradient_descent(x , y , lr , iterations):\n",
    "  w = np.random.rand()\n",
    "  b = np.random.rand()\n",
    "  for j in range(iterations):\n",
    "    y_pred = w * x + b\n",
    "    cost = cost_function(y , y_pred , n)\n",
    "    dw = -(2/n)*sum(x*(y-y_pred))\n",
    "    db = -(2/n)*sum(y-y_pred)\n",
    "    w = w - lr * dw\n",
    "    b = b - lr * db\n",
    "    print('iteration {} , w {} , b {} , cost {}'.format(j , w , b , cost))\n",
    "    Cost_function.append(cost)\n",
    "  return w , b , cost\n"
   ]
  },
  {
   "cell_type": "code",
   "execution_count": null,
   "metadata": {
    "colab": {
     "base_uri": "https://localhost:8080/"
    },
    "id": "sCn37j_rwfvC",
    "outputId": "034fcece-932f-40c0-9732-0071f603f7c9"
   },
   "outputs": [
    {
     "name": "stdout",
     "output_type": "stream",
     "text": [
      "iteration 0 , w 1.0939624929381455 , b 0.4305240474444218 , cost 1519.9626351761644\n",
      "iteration 1 , w 1.2818136191891742 , b 0.43427323489058933 , cost 466.5763376358027\n",
      "iteration 2 , w 1.3760420616771063 , b 0.4361822965826804 , cost 201.52544505252953\n",
      "iteration 3 , w 1.4233079326372196 , b 0.43716832280988993 , cost 134.83386665977685\n",
      "iteration 4 , w 1.4470166587296467 , b 0.43769134010186544 , cost 118.05304614868024\n",
      "iteration 5 , w 1.4589087603024866 , b 0.4379821048088522 , cost 113.83066667949585\n",
      "iteration 6 , w 1.4648734621088562 , b 0.4381563678489978 , cost 112.76821601345365\n",
      "iteration 7 , w 1.4678648894485204 , b 0.4382721916549849 , cost 112.50086005789794\n",
      "iteration 8 , w 1.4693648767992848 , b 0.43835870123198023 , cost 112.43356417929186\n",
      "iteration 9 , w 1.4701167350219941 , b 0.43843050612847884 , cost 112.41660700132084\n",
      "iteration 10 , w 1.4704933202244832 , b 0.43849493471767853 , cost 112.4123159428238\n",
      "iteration 11 , w 1.470681662738842 , b 0.4385556630237738 , cost 112.41121190731951\n",
      "iteration 12 , w 1.470775579843067 , b 0.43861453499678194 , cost 112.4109097842764\n",
      "iteration 13 , w 1.4708221317201378 , b 0.4386724755902639 , cost 112.41080943714526\n",
      "iteration 14 , w 1.470844924478324 , b 0.43872994877508853 , cost 112.41075986081647\n",
      "iteration 15 , w 1.4708557993029419 , b 0.4387871872861486 , cost 112.41072305969858\n",
      "iteration 16 , w 1.4708606959138337 , b 0.438844307866831 , cost 112.41068947342\n",
      "iteration 17 , w 1.470862593765409 , b 0.4389013690774077 , cost 112.41065669641971\n",
      "iteration 18 , w 1.4708629873976147 , b 0.43895840029260913 , cost 112.4106241234156\n",
      "iteration 19 , w 1.4708626264945694 , b 0.43901541624725154 , cost 112.4105916021078\n",
      "iteration 20 , w 1.4708618871093047 , b 0.43907242433254595 , cost 112.41055909417479\n",
      "iteration 21 , w 1.4708609578757783 , b 0.43912942825603857 , cost 112.4105265899744\n",
      "iteration 22 , w 1.4708599334156718 , b 0.4391864298774929 , cost 112.4104940870804\n",
      "iteration 23 , w 1.4708588611926687 , b 0.4392434301297965 , cost 112.41046158488233\n",
      "iteration 24 , w 1.4708577650152799 , b 0.43930042948090164 , cost 112.41042908322649\n",
      "iteration 25 , w 1.4708566568262187 , b 0.43935742816554196 , cost 112.41039658207434\n",
      "iteration 26 , w 1.4708555426161327 , b 0.43941442630146504 , cost 112.41036408141596\n",
      "iteration 27 , w 1.4708544253900224 , b 0.4394714239477365 , cost 112.41033158124911\n",
      "iteration 28 , w 1.4708533066552425 , b 0.43952842113398616 , cost 112.41029908157297\n",
      "iteration 29 , w 1.4708521871679048 , b 0.43958541787507843 , cost 112.41026658238764\n",
      "iteration 30 , w 1.4708510673072865 , b 0.43964241417847116 , cost 112.41023408369276\n",
      "iteration 31 , w 1.4708499472636392 , b 0.4396994100479069 , cost 112.41020158548852\n",
      "iteration 32 , w 1.4708488271323952 , b 0.4397564054852647 , cost 112.41016908777488\n",
      "iteration 33 , w 1.4708477069614256 , b 0.43981340049148854 , cost 112.4101365905518\n",
      "iteration 34 , w 1.470846586774743 , b 0.4398703950670537 , cost 112.41010409381927\n",
      "iteration 35 , w 1.470845466584392 , b 0.4399273892122002 , cost 112.41007159757734\n",
      "iteration 36 , w 1.470844346396415 , b 0.43998438292705 , cost 112.4100391018258\n",
      "iteration 37 , w 1.4708432262138422 , b 0.44004137621166595 , cost 112.41000660656493\n",
      "iteration 38 , w 1.4708421060381944 , b 0.44009836906608113 , cost 112.40997411179451\n",
      "iteration 39 , w 1.4708409858702338 , b 0.4401553614903138 , cost 112.40994161751478\n",
      "iteration 40 , w 1.470839865710343 , b 0.44021235348437476 , cost 112.40990912372534\n",
      "iteration 41 , w 1.4708387455587137 , b 0.440269345048271 , cost 112.40987663042657\n",
      "iteration 42 , w 1.4708376254154423 , b 0.4403263361820076 , cost 112.40984413761815\n",
      "iteration 43 , w 1.4708365052805767 , b 0.44038332688558884 , cost 112.40981164530035\n",
      "iteration 44 , w 1.4708353851541411 , b 0.4404403171590184 , cost 112.40977915347308\n",
      "iteration 45 , w 1.470834265036148 , b 0.4404973070022997 , cost 112.40974666213619\n",
      "iteration 46 , w 1.470833144926603 , b 0.44055429641543625 , cost 112.40971417128982\n",
      "iteration 47 , w 1.4708320248255091 , b 0.4406112853984313 , cost 112.40968168093379\n",
      "iteration 48 , w 1.470830904732868 , b 0.4406682739512881 , cost 112.40964919106833\n",
      "iteration 49 , w 1.4708297846486804 , b 0.4407252620740099 , cost 112.40961670169331\n"
     ]
    }
   ],
   "source": [
    "w , b , cost = gradient_descent( X , Y , 0.0001, 5000)"
   ]
  },
  {
   "cell_type": "code",
   "execution_count": null,
   "metadata": {
    "colab": {
     "background_save": true
    },
    "id": "0EmMaXxUw5eK",
    "outputId": "fad370b1-a9e7-497a-f755-d48f73cbea08"
   },
   "outputs": [
    {
     "name": "stdout",
     "output_type": "stream",
     "text": [
      "1.4435342947396579 1.8294768797520071 111.69069479229462\n"
     ]
    }
   ],
   "source": [
    "print(w , b , cost)"
   ]
  },
  {
   "cell_type": "code",
   "execution_count": null,
   "metadata": {
    "colab": {
     "base_uri": "https://localhost:8080/",
     "height": 451
    },
    "id": "fEoaRpH7x4JU",
    "outputId": "94b63d74-a69a-4d35-d59e-be2f1177f69c"
   },
   "outputs": [
    {
     "data": {
      "image/png": "[encoded data removed]",
      "text/plain": [
       "<Figure size 864x576 with 1 Axes>"
      ]
     },
     "metadata": {},
     "output_type": "display_data"
    }
   ],
   "source": [
    "import matplotlib.pyplot as plt\n",
    "import seaborn as sns\n",
    "plt.figure(figsize = (12,8))\n",
    "plt.plot(range(1 , len(Cost_function) + 1) , Cost_function, color='blue' )\n",
    "plt.gca().set_title(\"Cost funtion vs no.of iterations\")\n",
    "plt.xlabel('No.of Iterations')\n",
    "plt.ylabel('Cost Function')\n",
    "plt.xlim(0,20)\n",
    "plt.show()"
   ]
  },
  {
   "cell_type": "code",
   "execution_count": null,
   "metadata": {
    "colab": {
     "background_save": true
    },
    "id": "MxqS3Nj2xE4l"
   },
   "outputs": [],
   "source": [
    "def predict(X):\n",
    "  return w * X + b"
   ]
  },
  {
   "cell_type": "code",
   "execution_count": null,
   "metadata": {
    "colab": {
     "background_save": true
    },
    "id": "m7Wj0dVFxI-q",
    "outputId": "a85a2d71-4941-4425-dc92-a8317f4905eb"
   },
   "outputs": [
    {
     "name": "stderr",
     "output_type": "stream",
     "text": [
      "/usr/local/lib/python3.7/dist-packages/seaborn/_decorators.py:43: FutureWarning: Pass the following variables as keyword args: x, y. From version 0.12, the only valid positional argument will be `data`, and passing other arguments without an explicit keyword will result in an error or misinterpretation.\n",
      "  FutureWarning\n"
     ]
    },
    {
     "data": {
      "image/png": "[encoded data removed]",
      "text/plain": [
       "<Figure size 864x576 with 1 Axes>"
      ]
     },
     "metadata": {},
     "output_type": "display_data"
    }
   ],
   "source": [
    "plt.figure(figsize = (12,8))\n",
    "sns.scatterplot(X, Y, color='red' , label = 'y_true') \n",
    "plt.plot(X , predict(X) , label = 'y_pred', color='blue')\n",
    "plt.gca().set_title(\"Linear Regression using Gradient Descent\")\n",
    "plt.legend()\n",
    "plt.show()"
   ]
  },
  {
   "cell_type": "code",
   "execution_count": null,
   "metadata": {
    "id": "aepk_aDZk4ud"
   },
   "outputs": [],
   "source": []
  }
 ],
 "metadata": {
  "accelerator": "GPU",
  "colab": {
   "collapsed_sections": [],
   "provenance": []
  },
  "kernelspec": {
   "display_name": "Python 3 (ipykernel)",
   "language": "python",
   "name": "python3"
  },
  "language_info": {
   "codemirror_mode": {
    "name": "ipython",
    "version": 3
   },
   "file_extension": ".py",
   "mimetype": "text/x-python",
   "name": "python",
   "nbconvert_exporter": "python",
   "pygments_lexer": "ipython3",
   "version": "3.9.12"
  }
 },
 "nbformat": 4,
 "nbformat_minor": 1
}
