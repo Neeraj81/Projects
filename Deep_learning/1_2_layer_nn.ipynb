{
 "cells": [
  {
   "cell_type": "markdown",
   "id": "27254d3a",
   "metadata": {},
   "source": [
    "<!--#  **ML Campus Batch Aug 2022 - Bangalore**\n",
    "<br>\n",
    "\n",
    "\n",
    "### **Problem** :\n",
    " -->\n",
    "# Build a two-layer neural network in py\n",
    " .\n",
    "<!--\n",
    "### **Description** : To gain a better understanding of Deep Learning, build a Neural\n",
    "Network from scratch using only python, without a deep learning library like\n",
    "TensorFlow. Understanding the inner workings of a Neural Network is important to\n",
    "a ML Engineer.\n",
    "<br>\n",
    "\n",
    "**Dataset**: [MNIST](http://yann.lecun.com/exdb/mnist/)\n",
    "\n",
    "\n",
    "\n",
    "<br>\n",
    "\n",
    "\n",
    "###### submitted by: Neeraj Ganji \n",
    "###### submitted on: 7th NOV 2022\n",
    "\n",
    "ID: 23133\n",
    "-->\n",
    "\n",
    "<br>\n",
    "<br>\n",
    "<br>\n",
    "<br>\n",
    "<br>\n",
    "<br>"
   ]
  },
  {
   "cell_type": "markdown",
   "id": "2fb223a9",
   "metadata": {},
   "source": [
    "##### Importing the numpy, pandas Libraries."
   ]
  },
  {
   "cell_type": "code",
   "execution_count": 1,
   "id": "05360c5b",
   "metadata": {
    "scrolled": true
   },
   "outputs": [],
   "source": [
    "import numpy as np\n",
    "import pandas as pd\n",
    "import matplotlib.pyplot as plt"
   ]
  },
  {
   "cell_type": "markdown",
   "id": "2cccc67b",
   "metadata": {},
   "source": [
    "##### Reading the MNIST dataset in csv file.\n",
    "\n",
    "##### We downloaded the MNIST dataset from kaggle in .CSV format"
   ]
  },
  {
   "cell_type": "code",
   "execution_count": 2,
   "id": "7bbfa33f",
   "metadata": {
    "scrolled": true
   },
   "outputs": [],
   "source": [
    "data = pd.read_csv('C:/Users/hp/Desktop/mle/week1/MNIST.csv')"
   ]
  },
  {
   "cell_type": "code",
   "execution_count": 3,
   "id": "b7600a98",
   "metadata": {
    "scrolled": true
   },
   "outputs": [],
   "source": [
    "data=np.array(data)"
   ]
  },
  {
   "cell_type": "markdown",
   "id": "159676c2",
   "metadata": {},
   "source": [
    "creating the test and training dataset from the given data"
   ]
  },
  {
   "cell_type": "code",
   "execution_count": 6,
   "id": "05336130",
   "metadata": {},
   "outputs": [
    {
     "name": "stdout",
     "output_type": "stream",
     "text": [
      "42000 785\n"
     ]
    },
    {
     "data": {
      "text/plain": [
       "(785,)"
      ]
     },
     "execution_count": 6,
     "metadata": {},
     "output_type": "execute_result"
    }
   ],
   "source": [
    "data = np.array(data)\n",
    "m, n = data.shape\n",
    "print(m,n)\n",
    "data[0].shape"
   ]
  },
  {
   "cell_type": "code",
   "execution_count": 7,
   "id": "11822f37",
   "metadata": {
    "scrolled": true
   },
   "outputs": [],
   "source": [
    "data = np.array(data)\n",
    "m, n = data.shape\n",
    "np.random.shuffle(data) \n",
    "data_dev = data[0:1000].T\n",
    "Y_dev = data_dev[0]\n",
    "X_dev = data_dev[1:n]\n",
    "X_dev = X_dev / 255.\n",
    "\n",
    "data_train = data[1000:m].T\n",
    "Y_train = data_train[0]\n",
    "X_train = data_train[1:n]\n",
    "X_train = X_train / 255\n",
    "\n"
   ]
  },
  {
   "cell_type": "code",
   "execution_count": 8,
   "id": "172e6dc7",
   "metadata": {
    "scrolled": true
   },
   "outputs": [
    {
     "data": {
      "text/plain": [
       "(784, 41000)"
      ]
     },
     "execution_count": 8,
     "metadata": {},
     "output_type": "execute_result"
    }
   ],
   "source": [
    "X_train.shape"
   ]
  },
  {
   "cell_type": "markdown",
   "id": "3c55c4bb",
   "metadata": {},
   "source": [
    "creating ReLU, softmax functions."
   ]
  },
  {
   "cell_type": "code",
   "execution_count": 9,
   "id": "bfe6da4c",
   "metadata": {
    "scrolled": true
   },
   "outputs": [],
   "source": [
    "def parameters():\n",
    "    W1=np.random.rand(10,784) - 0.5\n",
    "    b1=np.random.rand(10,1) - 0.5\n",
    "    W2=np.random.rand(10,10) - 0.5\n",
    "    b2=np.random.rand(10,1) - 0.5\n",
    "    return W1, b1, W2, b2\n",
    "\n",
    "def ReLU(x):\n",
    "    return np.maximum(x,0)\n",
    "\n",
    "def softmax(x):\n",
    "    arr = np.exp(x)/sum(np.exp(x))\n",
    "    return arr\n",
    "\n",
    "def ReLU_Deriv(x):\n",
    "    return x>0\n",
    "\n",
    "def one_hot(Y):\n",
    "    one_hot_Y = np.zeros((Y.size, Y.max() + 1))\n",
    "    one_hot_Y[np.arange(Y.size), Y] = 1\n",
    "    one_hot_Y = one_hot_Y.T\n",
    "    return one_hot_Y"
   ]
  },
  {
   "cell_type": "markdown",
   "id": "0261b3ac",
   "metadata": {},
   "source": [
    "creating forward and backward propagation functions"
   ]
  },
  {
   "cell_type": "code",
   "execution_count": 10,
   "id": "2b7ff98e",
   "metadata": {
    "scrolled": true
   },
   "outputs": [],
   "source": [
    "\n",
    "def forwardpropagation(W1,b1,W2,b2,X):\n",
    "    Z1=W1.dot(X) + b1\n",
    "    A1=ReLU(Z1)\n",
    "    Z2=W2.dot(A1) + b2\n",
    "    A2=softmax(Z2)\n",
    "    return Z1, A1, Z2, A2\n",
    "\n",
    "def backwardpropagation(Z1,A1,Z2,A2,W1,W2,X,Y):\n",
    "    m=Y.size\n",
    "    Y_hot=one_hot(Y)\n",
    "    dZ2=A2-Y_hot\n",
    "    dW2=1/m * dZ2.dot(A1.T)\n",
    "    db2=1/m * np.sum(dZ2)\n",
    "    dZ1=W2.T.dot(dZ2) * ReLU_Deriv(Z1)\n",
    "    dW1=1/m * dZ1.dot(X.T)\n",
    "    db1=1/m * np.sum(dZ1)\n",
    "    return dW1, db1, dW2, db2\n",
    "\n",
    "def update_parameters(W1,b1,W2,b2,dW1,db1,dW2,db2,alpha):\n",
    "    W1 = W1 - alpha * dW1\n",
    "    b1 = b1 - alpha * db1\n",
    "    W2 = W2 - alpha * dW2\n",
    "    b2 = b2 - alpha * db2\n",
    "    return W1, b1, W2, b2\n",
    "    \n"
   ]
  },
  {
   "cell_type": "markdown",
   "id": "34ce218f",
   "metadata": {},
   "source": [
    "creating predict, gradient descent and accuracy functions."
   ]
  },
  {
   "cell_type": "code",
   "execution_count": 11,
   "id": "ad4b72ec",
   "metadata": {
    "scrolled": true
   },
   "outputs": [],
   "source": [
    "def get_prediction(A2):\n",
    "    return np.argmax(A2,0)\n",
    "\n",
    "def Accuracy(prediction,Y):\n",
    "    return np.sum(prediction == Y) / Y.size * 100\n",
    "\n",
    "\n",
    "def gradient_descent(X, Y, alpha, iterations):\n",
    "    W1, b1, W2, b2 =parameters()\n",
    "    for i in range(iterations):\n",
    "        Z1, A1, Z2, A2 = forwardpropagation(W1, b1, W2, b2, X)\n",
    "        dW1, db1, dW2, db2 = backwardpropagation(Z1, A1, Z2, A2, W1, W2, X, Y)\n",
    "        W1, b1, W2, b2 = update_parameters(W1, b1, W2, b2, dW1, db1, dW2, db2, alpha)\n",
    "        if i % 10 == 0:\n",
    "            print(\"Iteration: \", i)\n",
    "            prediction = get_prediction(A2)\n",
    "            print(Accuracy(prediction, Y))\n",
    "    return W1, b1, W2, b2\n",
    "\n",
    "        "
   ]
  },
  {
   "cell_type": "code",
   "execution_count": 12,
   "id": "fa7a847c",
   "metadata": {
    "scrolled": false
   },
   "outputs": [],
   "source": [
    "W1,b1,W2,b2=parameters()\n",
    "Z1,A1,Z2,A2=forwardpropagation(W1,b1,W2,b2,X_train)"
   ]
  },
  {
   "cell_type": "markdown",
   "id": "56afa980",
   "metadata": {},
   "source": [
    "Now, we train the model."
   ]
  },
  {
   "cell_type": "code",
   "execution_count": 13,
   "id": "633345b9",
   "metadata": {
    "scrolled": false
   },
   "outputs": [
    {
     "name": "stdout",
     "output_type": "stream",
     "text": [
      "Iteration:  0\n",
      "11.019512195121951\n",
      "Iteration:  10\n",
      "25.2390243902439\n",
      "Iteration:  20\n",
      "33.94390243902439\n",
      "Iteration:  30\n",
      "39.4\n",
      "Iteration:  40\n",
      "45.514634146341464\n",
      "Iteration:  50\n",
      "51.1219512195122\n",
      "Iteration:  60\n",
      "55.209756097560984\n",
      "Iteration:  70\n",
      "58.12926829268292\n",
      "Iteration:  80\n",
      "60.58292682926829\n",
      "Iteration:  90\n",
      "62.91951219512195\n",
      "Iteration:  100\n",
      "64.91463414634147\n",
      "Iteration:  110\n",
      "66.71219512195123\n",
      "Iteration:  120\n",
      "68.32682926829268\n",
      "Iteration:  130\n",
      "69.69024390243902\n",
      "Iteration:  140\n",
      "70.89268292682927\n",
      "Iteration:  150\n",
      "72.02195121951219\n",
      "Iteration:  160\n",
      "73.1341463414634\n",
      "Iteration:  170\n",
      "73.99512195121952\n",
      "Iteration:  180\n",
      "74.81463414634146\n",
      "Iteration:  190\n",
      "75.59268292682927\n",
      "Iteration:  200\n",
      "76.42682926829268\n",
      "Iteration:  210\n",
      "77.20243902439024\n",
      "Iteration:  220\n",
      "77.92682926829269\n",
      "Iteration:  230\n",
      "78.56585365853658\n",
      "Iteration:  240\n",
      "79.20243902439024\n",
      "Iteration:  250\n",
      "79.78048780487805\n",
      "Iteration:  260\n",
      "80.27317073170732\n",
      "Iteration:  270\n",
      "80.6829268292683\n",
      "Iteration:  280\n",
      "81.1219512195122\n",
      "Iteration:  290\n",
      "81.50731707317073\n",
      "Iteration:  300\n",
      "81.94878048780487\n",
      "Iteration:  310\n",
      "82.33414634146341\n",
      "Iteration:  320\n",
      "82.65853658536585\n",
      "Iteration:  330\n",
      "82.98048780487804\n",
      "Iteration:  340\n",
      "83.22682926829268\n",
      "Iteration:  350\n",
      "83.47317073170731\n",
      "Iteration:  360\n",
      "83.69024390243902\n",
      "Iteration:  370\n",
      "83.91951219512195\n",
      "Iteration:  380\n",
      "84.08536585365853\n",
      "Iteration:  390\n",
      "84.29268292682927\n",
      "Iteration:  400\n",
      "84.4829268292683\n",
      "Iteration:  410\n",
      "84.65365853658537\n",
      "Iteration:  420\n",
      "84.82926829268293\n",
      "Iteration:  430\n",
      "84.97073170731707\n",
      "Iteration:  440\n",
      "85.12926829268292\n",
      "Iteration:  450\n",
      "85.26341463414634\n",
      "Iteration:  460\n",
      "85.40487804878049\n",
      "Iteration:  470\n",
      "85.56341463414634\n",
      "Iteration:  480\n",
      "85.6829268292683\n",
      "Iteration:  490\n",
      "85.83414634146341\n"
     ]
    }
   ],
   "source": [
    "W1,b1,W2,b2 = gradient_descent(X_train,Y_train,0.19,500)"
   ]
  },
  {
   "cell_type": "markdown",
   "id": "d440d8d3",
   "metadata": {},
   "source": [
    "using softmax as thier prediction will be better than ReLU."
   ]
  },
  {
   "cell_type": "code",
   "execution_count": 12,
   "id": "d5b6ca12",
   "metadata": {
    "scrolled": true
   },
   "outputs": [],
   "source": [
    "def make_predictions(X, W1, b1, W2, b2):\n",
    "    abc,bcd,cde, A2 = forwardpropagation(W1, b1, W2, b2, X)\n",
    "    predictions = get_prediction(A2)\n",
    "    return predictions"
   ]
  },
  {
   "cell_type": "code",
   "execution_count": 13,
   "id": "9090583c",
   "metadata": {
    "scrolled": true
   },
   "outputs": [],
   "source": [
    "def test_prediction(index, W1, b1, W2, b2):\n",
    "    current_image = X_train[:, index, None]\n",
    "    prediction = make_predictions(X_train[:, index, None], W1, b1, W2, b2)\n",
    "    label = Y_train[index]\n",
    "    print(\"Prediction: \", prediction)\n",
    "    print(\"Label: \", label)\n",
    "    current_image = current_image.reshape((28, 28)) * 255\n",
    "    plt.gray()\n",
    "    plt.imshow(current_image, interpolation='nearest')\n",
    "    plt.show()"
   ]
  },
  {
   "cell_type": "code",
   "execution_count": 14,
   "id": "aaae602b",
   "metadata": {
    "scrolled": true
   },
   "outputs": [
    {
     "name": "stdout",
     "output_type": "stream",
     "text": [
      "Prediction:  [3]\n",
      "Label:  3\n"
     ]
    },
    {
     "data": {
      "image/png": "[encoded data removed]",
      "text/plain": [
       "<Figure size 432x288 with 1 Axes>"
      ]
     },
     "metadata": {
      "needs_background": "light"
     },
     "output_type": "display_data"
    }
   ],
   "source": [
    "test_prediction(25,W1,b1,W2,b2)"
   ]
  },
  {
   "cell_type": "code",
   "execution_count": 15,
   "id": "dbcebce6",
   "metadata": {
    "scrolled": true
   },
   "outputs": [
    {
     "name": "stdout",
     "output_type": "stream",
     "text": [
      "Prediction:  [0]\n",
      "Label:  0\n"
     ]
    },
    {
     "data": {
      "image/png": "[encoded data removed]",
      "text/plain": [
       "<Figure size 432x288 with 1 Axes>"
      ]
     },
     "metadata": {
      "needs_background": "light"
     },
     "output_type": "display_data"
    }
   ],
   "source": [
    "test_prediction(35,W1,b1,W2,b2)"
   ]
  },
  {
   "cell_type": "code",
   "execution_count": 16,
   "id": "fc603918",
   "metadata": {
    "scrolled": true
   },
   "outputs": [
    {
     "name": "stdout",
     "output_type": "stream",
     "text": [
      "Prediction:  [1]\n",
      "Label:  1\n"
     ]
    },
    {
     "data": {
      "image/png": "[encoded data removed]",
      "text/plain": [
       "<Figure size 432x288 with 1 Axes>"
      ]
     },
     "metadata": {
      "needs_background": "light"
     },
     "output_type": "display_data"
    }
   ],
   "source": [
    "test_prediction(45,W1,b1,W2,b2)"
   ]
  },
  {
   "cell_type": "code",
   "execution_count": 17,
   "id": "dccc10ef",
   "metadata": {
    "scrolled": true
   },
   "outputs": [
    {
     "name": "stdout",
     "output_type": "stream",
     "text": [
      "Prediction:  [5]\n",
      "Label:  5\n"
     ]
    },
    {
     "data": {
      "image/png": "[encoded data removed]",
      "text/plain": [
       "<Figure size 432x288 with 1 Axes>"
      ]
     },
     "metadata": {
      "needs_background": "light"
     },
     "output_type": "display_data"
    }
   ],
   "source": [
    "test_prediction(65,W1,b1,W2,b2)"
   ]
  },
  {
   "cell_type": "code",
   "execution_count": 18,
   "id": "0a60f14d",
   "metadata": {
    "scrolled": true
   },
   "outputs": [
    {
     "name": "stdout",
     "output_type": "stream",
     "text": [
      "Prediction:  [3]\n",
      "Label:  8\n"
     ]
    },
    {
     "data": {
      "image/png": "[encoded data removed]",
      "text/plain": [
       "<Figure size 432x288 with 1 Axes>"
      ]
     },
     "metadata": {
      "needs_background": "light"
     },
     "output_type": "display_data"
    }
   ],
   "source": [
    "test_prediction(75,W1,b1,W2,b2)"
   ]
  },
  {
   "cell_type": "code",
   "execution_count": 19,
   "id": "35773e51",
   "metadata": {
    "scrolled": true
   },
   "outputs": [
    {
     "name": "stdout",
     "output_type": "stream",
     "text": [
      "Prediction:  [1]\n",
      "Label:  1\n"
     ]
    },
    {
     "data": {
      "image/png": "[encoded data removed]",
      "text/plain": [
       "<Figure size 432x288 with 1 Axes>"
      ]
     },
     "metadata": {
      "needs_background": "light"
     },
     "output_type": "display_data"
    }
   ],
   "source": [
    "test_prediction(95,W1,b1,W2,b2)"
   ]
  },
  {
   "cell_type": "code",
   "execution_count": 20,
   "id": "486ccd69",
   "metadata": {
    "scrolled": true
   },
   "outputs": [
    {
     "name": "stdout",
     "output_type": "stream",
     "text": [
      "Prediction:  [1]\n",
      "Label:  1\n"
     ]
    },
    {
     "data": {
      "image/png": "[encoded data removed]",
      "text/plain": [
       "<Figure size 432x288 with 1 Axes>"
      ]
     },
     "metadata": {
      "needs_background": "light"
     },
     "output_type": "display_data"
    }
   ],
   "source": [
    "test_prediction(15,W1,b1,W2,b2)"
   ]
  },
  {
   "cell_type": "markdown",
   "id": "85e44958",
   "metadata": {
    "scrolled": true
   },
   "source": [
    "# Thank you"
   ]
  }
 ],
 "metadata": {
  "kernelspec": {
   "display_name": "Python 3 (ipykernel)",
   "language": "python",
   "name": "python3"
  },
  "language_info": {
   "codemirror_mode": {
    "name": "ipython",
    "version": 3
   },
   "file_extension": ".py",
   "mimetype": "text/x-python",
   "name": "python",
   "nbconvert_exporter": "python",
   "pygments_lexer": "ipython3",
   "version": "3.9.12"
  }
 },
 "nbformat": 4,
 "nbformat_minor": 5
}
