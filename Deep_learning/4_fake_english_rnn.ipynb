{
 "cells": [
  {
   "cell_type": "markdown",
   "metadata": {
    "id": "VaYdn5Ms3378"
   },
   "source": [
    "<!--#  **ML Campus Batch Aug 2022 - Bangalore**\n",
    "### Assignment 4 --> \n",
    "Generating \"fake English\" text from an RNN's \n",
    "#### -by using shakespeare text.\n",
    "<!--\n",
    "###### submitted by: Neeraj Ganji \n",
    "###### submitted on: 26th sep 2022\n",
    "\n",
    "ID: 23133\n",
    "-->"
   ]
  },
  {
   "cell_type": "markdown",
   "metadata": {
    "id": "ZMFny2A_8yPJ"
   },
   "source": [
    "### Loading, Understading, Embedding the dataset and making it useful for making for RNN Models"
   ]
  },
  {
   "cell_type": "markdown",
   "metadata": {
    "id": "EZLckFAR7iQK"
   },
   "source": [
    "##### Importing required libraries\n"
   ]
  },
  {
   "cell_type": "code",
   "execution_count": 1,
   "metadata": {
    "id": "ztjyxwhSvlWq"
   },
   "outputs": [],
   "source": [
    "import tensorflow as tf\n",
    "import numpy as np\n",
    "import pandas as pd"
   ]
  },
  {
   "cell_type": "markdown",
   "metadata": {
    "id": "pmRRrSqR7nYd"
   },
   "source": [
    "##### Importing Shakespeare Dataset given in the assignment\n"
   ]
  },
  {
   "cell_type": "code",
   "execution_count": 2,
   "metadata": {
    "colab": {
     "base_uri": "https://localhost:8080/"
    },
    "id": "VYqI1Y0CvqKj",
    "outputId": "e7c4c870-f0f5-4905-f00e-2c3cc8479d97"
   },
   "outputs": [
    {
     "name": "stdout",
     "output_type": "stream",
     "text": [
      "--2022-09-27 15:38:43--  https://cs.stanford.edu/people/karpathy/char-rnn/shakespeare_input.txt\n",
      "Resolving cs.stanford.edu (cs.stanford.edu)... 171.64.64.64\n",
      "Connecting to cs.stanford.edu (cs.stanford.edu)|171.64.64.64|:443... connected.\n",
      "HTTP request sent, awaiting response... 200 OK\n",
      "Length: 4573338 (4.4M) [text/plain]\n",
      "Saving to: ‘shakespeare_input.txt’\n",
      "\n",
      "shakespeare_input.t 100%[===================>]   4.36M  11.4MB/s    in 0.4s    \n",
      "\n",
      "2022-09-27 15:38:43 (11.4 MB/s) - ‘shakespeare_input.txt’ saved [4573338/4573338]\n",
      "\n"
     ]
    }
   ],
   "source": [
    "!wget 'https://cs.stanford.edu/people/karpathy/char-rnn/shakespeare_input.txt'"
   ]
  },
  {
   "cell_type": "markdown",
   "metadata": {},
   "source": [
    "<br><br><br><br>"
   ]
  },
  {
   "cell_type": "markdown",
   "metadata": {
    "id": "lT_7YFMJ7x4K"
   },
   "source": [
    "##### reading the dataset\n"
   ]
  },
  {
   "cell_type": "code",
   "execution_count": 3,
   "metadata": {
    "colab": {
     "base_uri": "https://localhost:8080/"
    },
    "id": "px4_T8lCvwpT",
    "outputId": "45841ea1-8a2d-443c-d2aa-cc3c04efe708"
   },
   "outputs": [
    {
     "name": "stdout",
     "output_type": "stream",
     "text": [
      "First Citizen:\n",
      "Before we proceed any further, hear me speak.\n",
      "\n",
      "All:\n",
      "Speak, speak.\n",
      "\n",
      "First Citizen:\n",
      "You are all resolved rather to die than to famish?\n",
      "\n",
      "All:\n",
      "Resolved. resolved.\n",
      "\n",
      "First Citizen:\n",
      "First, you know Caius Marcius is chief enemy to the people.\n",
      "\n",
      "All:\n",
      "We know't, we know't.\n",
      "\n",
      "First Citizen:\n",
      "Let us kill him, and we'll have corn at our own price.\n",
      "Is't a verdict?\n",
      "\n",
      "All:\n",
      "No more talking on't; let it be done: away, away!\n",
      "\n",
      "Second Citizen:\n",
      "One word, good citizens.\n",
      "\n",
      "First Citizen:\n",
      "We are accounted poor citizens, the patricians good.\n",
      "What authority surfeits on would relieve us: if they\n",
      "would yield us but the superfluity, while it were\n",
      "wholesome, we might guess they relieved us humanely;\n",
      "but they think we are too dear: the leanness that\n",
      "afflicts us, the object of our misery, is as an\n",
      "inventory to particularise their abundance; our\n",
      "sufferance is a gain to them Let us revenge this with\n",
      "our pikes, ere we become rakes: for the gods know I\n",
      "speak this in hunger for bread, not in thirst for revenge.\n",
      "\n",
      "\n"
     ]
    }
   ],
   "source": [
    "text = open('/content/shakespeare_input.txt', 'r').read()\n",
    "print(text[:1000])\n"
   ]
  },
  {
   "cell_type": "markdown",
   "metadata": {
    "id": "UESJc46L72zJ"
   },
   "source": [
    "##### calculating the total characters present in the dataset. so that we can use the characters for vectorization(embedded)\n"
   ]
  },
  {
   "cell_type": "code",
   "execution_count": 4,
   "metadata": {
    "colab": {
     "base_uri": "https://localhost:8080/"
    },
    "id": "a_FCTLCcvwNA",
    "outputId": "e852f899-8ecd-4070-92ce-426870df1f01"
   },
   "outputs": [
    {
     "name": "stdout",
     "output_type": "stream",
     "text": [
      "Total no. of characters: 67\n",
      "['\\n', ' ', '!', '$', '&', \"'\", ',', '-', '.', '3', ':', ';', '?', 'A', 'B', 'C', 'D', 'E', 'F', 'G', 'H', 'I', 'J', 'K', 'L', 'M', 'N', 'O', 'P', 'Q', 'R', 'S', 'T', 'U', 'V', 'W', 'X', 'Y', 'Z', '[', ']', 'a', 'b', 'c', 'd', 'e', 'f', 'g', 'h', 'i', 'j', 'k', 'l', 'm', 'n', 'o', 'p', 'q', 'r', 's', 't', 'u', 'v', 'w', 'x', 'y', 'z']\n"
     ]
    }
   ],
   "source": [
    "vocabulary = sorted(set(text))\n",
    "print('Total no. of characters:', str(len(vocabulary)))\n",
    "print(vocabulary)"
   ]
  },
  {
   "cell_type": "code",
   "execution_count": 5,
   "metadata": {
    "colab": {
     "base_uri": "https://localhost:8080/"
    },
    "id": "G0htEVJ0wcry",
    "outputId": "81222d13-ffdb-4b02-b557-fb94ca574b48"
   },
   "outputs": [
    {
     "name": "stdout",
     "output_type": "stream",
     "text": [
      "[0, 1, 2, 3, 4, 5, 6, 7, 8, 9, 10, 11, 12, 13, 14, 15, 16, 17, 18, 19, 20, 21, 22, 23, 24, 25, 26, 27, 28, 29, 30, 31, 32, 33, 34, 35, 36, 37, 38, 39, 40, 41, 42, 43, 44, 45, 46, 47, 48, 49, 50, 51, 52, 53, 54, 55, 56, 57, 58, 59, 60, 61, 62, 63, 64, 65, 66]\n"
     ]
    }
   ],
   "source": [
    "#creading a list of range of total characters\n",
    "length_of_voc=[i for i in range(67)]\n",
    "print(length_of_voc)"
   ]
  },
  {
   "cell_type": "markdown",
   "metadata": {
    "id": "Rksbkn7o8fyJ"
   },
   "source": [
    "##### creating characters to index"
   ]
  },
  {
   "cell_type": "code",
   "execution_count": 6,
   "metadata": {
    "colab": {
     "base_uri": "https://localhost:8080/"
    },
    "id": "sXvhumBLyGJ8",
    "outputId": "571fc8f8-cf21-4be0-cb71-55aa11b0de0b"
   },
   "outputs": [
    {
     "name": "stdout",
     "output_type": "stream",
     "text": [
      "{'\\n': 0, ' ': 1, '!': 2, '$': 3, '&': 4, \"'\": 5, ',': 6, '-': 7, '.': 8, '3': 9, ':': 10, ';': 11, '?': 12, 'A': 13, 'B': 14, 'C': 15, 'D': 16, 'E': 17, 'F': 18, 'G': 19, 'H': 20, 'I': 21, 'J': 22, 'K': 23, 'L': 24, 'M': 25, 'N': 26, 'O': 27, 'P': 28, 'Q': 29, 'R': 30, 'S': 31, 'T': 32, 'U': 33, 'V': 34, 'W': 35, 'X': 36, 'Y': 37, 'Z': 38, '[': 39, ']': 40, 'a': 41, 'b': 42, 'c': 43, 'd': 44, 'e': 45, 'f': 46, 'g': 47, 'h': 48, 'i': 49, 'j': 50, 'k': 51, 'l': 52, 'm': 53, 'n': 54, 'o': 55, 'p': 56, 'q': 57, 'r': 58, 's': 59, 't': 60, 'u': 61, 'v': 62, 'w': 63, 'x': 64, 'y': 65, 'z': 66}\n"
     ]
    }
   ],
   "source": [
    "vocab_2_index = {i:j for i,j in zip(vocabulary,length_of_voc)}\n",
    "print(vocab_2_index)"
   ]
  },
  {
   "cell_type": "markdown",
   "metadata": {
    "id": "VmdL407n8rbt"
   },
   "source": [
    "##### creating index to charcter"
   ]
  },
  {
   "cell_type": "code",
   "execution_count": 7,
   "metadata": {
    "colab": {
     "base_uri": "https://localhost:8080/"
    },
    "id": "LCrTHVUSygrJ",
    "outputId": "16418623-d0b4-48e6-e27e-5a2d7625442d"
   },
   "outputs": [
    {
     "name": "stdout",
     "output_type": "stream",
     "text": [
      "{0: '\\n', 1: ' ', 2: '!', 3: '$', 4: '&', 5: \"'\", 6: ',', 7: '-', 8: '.', 9: '3', 10: ':', 11: ';', 12: '?', 13: 'A', 14: 'B', 15: 'C', 16: 'D', 17: 'E', 18: 'F', 19: 'G', 20: 'H', 21: 'I', 22: 'J', 23: 'K', 24: 'L', 25: 'M', 26: 'N', 27: 'O', 28: 'P', 29: 'Q', 30: 'R', 31: 'S', 32: 'T', 33: 'U', 34: 'V', 35: 'W', 36: 'X', 37: 'Y', 38: 'Z', 39: '[', 40: ']', 41: 'a', 42: 'b', 43: 'c', 44: 'd', 45: 'e', 46: 'f', 47: 'g', 48: 'h', 49: 'i', 50: 'j', 51: 'k', 52: 'l', 53: 'm', 54: 'n', 55: 'o', 56: 'p', 57: 'q', 58: 'r', 59: 's', 60: 't', 61: 'u', 62: 'v', 63: 'w', 64: 'x', 65: 'y', 66: 'z'}\n"
     ]
    }
   ],
   "source": [
    "index_2_vocab = {i:j for j,i in zip(vocabulary,length_of_voc)}\n",
    "print(index_2_vocab)\n",
    "index_2_vocab_arr=np.array(vocabulary)\n"
   ]
  },
  {
   "cell_type": "markdown",
   "metadata": {
    "id": "w-1cFxoe_cj6"
   },
   "source": [
    "##### checking the embedding for the dataset text(shakespeare text)"
   ]
  },
  {
   "cell_type": "code",
   "execution_count": 8,
   "metadata": {
    "colab": {
     "base_uri": "https://localhost:8080/"
    },
    "id": "VZcaOwLpy6Qu",
    "outputId": "0c24d4ea-2dc7-428d-8da3-a505766babbe"
   },
   "outputs": [
    {
     "name": "stdout",
     "output_type": "stream",
     "text": [
      "Data before embedding : \n",
      "First Citizen:\n",
      "Before we proceed any further, hear me speak.\n",
      "\n",
      "All:\n",
      "Speak, speak.\n",
      "\n",
      "First Citizen:\n",
      "You \n",
      "\n",
      "Data after embedding : \n",
      "[18 49 58 59 60  1 15 49 60 49 66 45 54 10  0 14 45 46 55 58 45  1 63 45\n",
      "  1 56 58 55 43 45 45 44  1 41 54 65  1 46 61 58 60 48 45 58  6  1 48 45\n",
      " 41 58  1 53 45  1 59 56 45 41 51  8  0  0 13 52 52 10  0 31 56 45 41 51\n",
      "  6  1 59 56 45 41 51  8  0  0 18 49 58 59 60  1 15 49 60 49 66 45 54 10\n",
      "  0 37 55 61]\n"
     ]
    }
   ],
   "source": [
    "text_2_indexs =np.array([vocab_2_index[i] for i in text])\n",
    "\n",
    "print(\"Data before embedding : \")\n",
    "print(text[:100],\"\\n\")\n",
    "print(\"Data after embedding : \")\n",
    "print(text_2_indexs[:100])"
   ]
  },
  {
   "cell_type": "markdown",
   "metadata": {
    "id": "tnE96oyBQ6l9"
   },
   "source": [
    "##### creating a generative funtion which can be used for generating the text from the trained model that we create in next steps"
   ]
  },
  {
   "cell_type": "code",
   "execution_count": 9,
   "metadata": {
    "id": "CUvy_5IdQZza"
   },
   "outputs": [],
   "source": [
    "def generate_text(model, num_generate, temperature, start_string):\n",
    "  #Converting the input string to vector\n",
    "  input_eval = [vocab_2_index[s] for s in start_string]\n",
    "  #Converting into required tensor dimension\n",
    "  input_eval = tf.expand_dims(input_eval, 0) \n",
    "  #Empty string to store the predictions\n",
    "  text_generated = [] \n",
    "  # Clears the hidden states in the RNN\n",
    "  model.reset_states() \n",
    "\n",
    "  for i in range(num_generate): \n",
    "    # prediction for single character\n",
    "    predictions = model(input_eval) \n",
    "    predictions = tf.squeeze(predictions, 0) \n",
    "    predictions = predictions / temperature\n",
    "    predicted_id = tf.random.categorical(predictions, num_samples=1)[-1,0].numpy()\n",
    "\n",
    "    #Here we are taking the predicted char as the next input to the model\n",
    "    input_eval = tf.expand_dims([predicted_id], 0) \n",
    "    # Also devectorize the number and add to the generated text\n",
    "    text_generated.append(index_2_vocab_arr[predicted_id]) \n",
    "\n",
    "  return (start_string + ''.join(text_generated))"
   ]
  },
  {
   "cell_type": "markdown",
   "metadata": {},
   "source": [
    "<br><br><br><br><br><br><br>"
   ]
  },
  {
   "cell_type": "markdown",
   "metadata": {
    "id": "YEft8XU1_beU"
   },
   "source": [
    "##### Creating the input and output dataset for training the sequential models(LSTM, GRU)"
   ]
  },
  {
   "cell_type": "code",
   "execution_count": 10,
   "metadata": {
    "id": "HUNAlsRmZmJN"
   },
   "outputs": [],
   "source": [
    "model_dataset_train = tf.data.Dataset.from_tensor_slices(text_2_indexs) \n",
    "input_length = 150\n",
    "Model_train = model_dataset_train.batch(input_length+1, drop_remainder=True)"
   ]
  },
  {
   "cell_type": "code",
   "execution_count": 13,
   "metadata": {
    "colab": {
     "base_uri": "https://localhost:8080/"
    },
    "id": "_TJHocUJ_GPW",
    "outputId": "2cbe1580-6554-4241-d88c-016f18b653e6"
   },
   "outputs": [
    {
     "name": "stdout",
     "output_type": "stream",
     "text": [
      "<MapDataset element_spec=(TensorSpec(shape=(150,), dtype=tf.int64, name=None), TensorSpec(shape=(150,), dtype=tf.int64, name=None))>\n"
     ]
    }
   ],
   "source": [
    "def dataset_split(text):\n",
    "  inputx = text[:-1]\n",
    "  outputx = text[1:]\n",
    "  return inputx, outputx\n",
    "train_dataset = Model_train.map(dataset_split)\n",
    "print(train_dataset)\n",
    "\n"
   ]
  },
  {
   "cell_type": "code",
   "execution_count": null,
   "metadata": {
    "colab": {
     "base_uri": "https://localhost:8080/"
    },
    "id": "645XPSFPbZeI",
    "outputId": "b7472002-f839-4f02-bdf5-68f365dd47e2",
    "scrolled": true
   },
   "outputs": [
    {
     "name": "stdout",
     "output_type": "stream",
     "text": [
      "tf.Tensor(\n",
      "[18 49 58 59 60  1 15 49 60 49 66 45 54 10  0 14 45 46 55 58 45  1 63 45\n",
      "  1 56 58 55 43 45 45 44  1 41 54 65  1 46 61 58 60 48 45 58  6  1 48 45\n",
      " 41 58  1 53 45  1 59 56 45 41 51  8  0  0 13 52 52 10  0 31 56 45 41 51\n",
      "  6  1 59 56 45 41 51  8  0  0 18 49 58 59 60  1 15 49 60 49 66 45 54 10\n",
      "  0 37 55 61  1 41 58 45  1 41 52 52  1 58 45 59 55 52 62 45 44  1 58 41\n",
      " 60 48 45 58  1 60 55  1 44 49 45  1 60 48 41 54  1 60 55  1 46 41 53 49\n",
      " 59 48 12  0  0 13], shape=(150,), dtype=int64) \n",
      " tf.Tensor(\n",
      "[49 58 59 60  1 15 49 60 49 66 45 54 10  0 14 45 46 55 58 45  1 63 45  1\n",
      " 56 58 55 43 45 45 44  1 41 54 65  1 46 61 58 60 48 45 58  6  1 48 45 41\n",
      " 58  1 53 45  1 59 56 45 41 51  8  0  0 13 52 52 10  0 31 56 45 41 51  6\n",
      "  1 59 56 45 41 51  8  0  0 18 49 58 59 60  1 15 49 60 49 66 45 54 10  0\n",
      " 37 55 61  1 41 58 45  1 41 52 52  1 58 45 59 55 52 62 45 44  1 58 41 60\n",
      " 48 45 58  1 60 55  1 44 49 45  1 60 48 41 54  1 60 55  1 46 41 53 49 59\n",
      " 48 12  0  0 13 52], shape=(150,), dtype=int64)\n"
     ]
    }
   ],
   "source": [
    "for i, j in train_dataset.take(1):\n",
    "  print(i, \"\\n\", j)"
   ]
  },
  {
   "cell_type": "markdown",
   "metadata": {
    "id": "LZwIQv114ud7"
   },
   "source": [
    "##### input and output of the dataset"
   ]
  },
  {
   "cell_type": "code",
   "execution_count": null,
   "metadata": {
    "colab": {
     "base_uri": "https://localhost:8080/"
    },
    "id": "pgnnHN6hAq8g",
    "outputId": "83195fe1-fac9-401d-e46f-fcdaa0227496"
   },
   "outputs": [
    {
     "name": "stdout",
     "output_type": "stream",
     "text": [
      "Input data:  'First Citizen:\\nBefore we proceed any further, hear me speak.\\n\\nAll:\\nSpeak, speak.\\n\\nFirst Citizen:\\nYou are all resolved rather to die than to famish?\\n\\nA'\n",
      "Target data: 'irst Citizen:\\nBefore we proceed any further, hear me speak.\\n\\nAll:\\nSpeak, speak.\\n\\nFirst Citizen:\\nYou are all resolved rather to die than to famish?\\n\\nAl'\n"
     ]
    }
   ],
   "source": [
    "for input, output in  train_dataset.take(1):\n",
    "  print('Input data: ', repr(''.join(index_2_vocab_arr[input.numpy()])))\n",
    "  print('Target data:', repr(''.join(index_2_vocab_arr[output.numpy()])))"
   ]
  },
  {
   "cell_type": "markdown",
   "metadata": {
    "id": "NNZ8KEKd-Fwh"
   },
   "source": [
    "## Sequential models\n"
   ]
  },
  {
   "cell_type": "code",
   "execution_count": 14,
   "metadata": {
    "id": "poxZ_VyyCqT-"
   },
   "outputs": [],
   "source": [
    "BATCH_SIZE = 64 # Batch size\n",
    "vocab_size = len(vocabulary)\n",
    "train_dataset = train_dataset.batch(BATCH_SIZE, drop_remainder=True)"
   ]
  },
  {
   "cell_type": "markdown",
   "metadata": {
    "id": "aCk5FeA9-Sdg"
   },
   "source": [
    "#### **Using LSTM**"
   ]
  },
  {
   "cell_type": "markdown",
   "metadata": {
    "id": "uzHI5Qks-pWu"
   },
   "source": [
    "##### LSTM model creation"
   ]
  },
  {
   "cell_type": "code",
   "execution_count": null,
   "metadata": {
    "id": "yTVWGHaStPdq"
   },
   "outputs": [],
   "source": [
    "def lstm_model(vocab_size, batch_size ):\n",
    "  model = tf.keras.Sequential([tf.keras.layers.Embedding(vocab_size, 256,\n",
    "                        batch_input_shape=[batch_size, None]),\n",
    "  tf.keras.layers.LSTM(1024, \n",
    "                      return_sequences=True,\n",
    "                      stateful=True,\n",
    "                      recurrent_initializer='glorot_uniform'),\n",
    "  tf.keras.layers.Dense(vocab_size)\n",
    "  ])\n",
    "  return model"
   ]
  },
  {
   "cell_type": "code",
   "execution_count": null,
   "metadata": {
    "id": "97a4aoZwtbsf"
   },
   "outputs": [],
   "source": [
    "model_lstm = lstm_model(vocab_size , BATCH_SIZE)\n"
   ]
  },
  {
   "cell_type": "markdown",
   "metadata": {
    "id": "R-spR2n3I09G"
   },
   "source": [
    "##### configuring Checkpoints"
   ]
  },
  {
   "cell_type": "code",
   "execution_count": null,
   "metadata": {
    "id": "7n0pn4BTJJwF"
   },
   "outputs": [],
   "source": [
    "weights_dir = './lstm_weights'\n",
    "checkpoint_prefix = os.path.join(weights_dir, \"checkpoints_{epoch}\")\n",
    "checkpoint_callback = tf.keras.callbacks.ModelCheckpoint(\n",
    "filepath = checkpoint_prefix,\n",
    "save_weights_only = True,\n",
    ")"
   ]
  },
  {
   "cell_type": "markdown",
   "metadata": {
    "id": "W4cvW-WvIizs"
   },
   "source": [
    "##### compiling"
   ]
  },
  {
   "cell_type": "code",
   "execution_count": null,
   "metadata": {
    "id": "0eJCSjQzpgTy"
   },
   "outputs": [],
   "source": [
    "def loss(labels, logits):\n",
    "  return tf.keras.losses.sparse_categorical_crossentropy(labels, logits, from_logits=True)\n",
    "\n"
   ]
  },
  {
   "cell_type": "code",
   "execution_count": null,
   "metadata": {
    "id": "fJe_o5M5ODiF"
   },
   "outputs": [],
   "source": [
    "model_lstm.compile(optimizer='adam', loss=loss,\n",
    "                  metrics=['accuracy'])"
   ]
  },
  {
   "cell_type": "code",
   "execution_count": null,
   "metadata": {
    "colab": {
     "base_uri": "https://localhost:8080/"
    },
    "id": "GwL1R9ssJZGq",
    "outputId": "96f2d3cc-bd34-466f-8948-8bcfed570f8a"
   },
   "outputs": [
    {
     "name": "stdout",
     "output_type": "stream",
     "text": [
      "Epoch 1/15\n",
      "473/473 [==============================] - 56s 105ms/step - loss: 2.1740 - accuracy: 0.3800\n",
      "Epoch 2/15\n",
      "473/473 [==============================] - 49s 103ms/step - loss: 1.6056 - accuracy: 0.5198\n",
      "Epoch 3/15\n",
      "473/473 [==============================] - 49s 103ms/step - loss: 1.4402 - accuracy: 0.5640\n",
      "Epoch 4/15\n",
      "473/473 [==============================] - 49s 103ms/step - loss: 1.3518 - accuracy: 0.5873\n",
      "Epoch 5/15\n",
      "473/473 [==============================] - 49s 103ms/step - loss: 1.2971 - accuracy: 0.6017\n",
      "Epoch 6/15\n",
      "473/473 [==============================] - 49s 103ms/step - loss: 1.2572 - accuracy: 0.6122\n",
      "Epoch 7/15\n",
      "473/473 [==============================] - 48s 101ms/step - loss: 1.2238 - accuracy: 0.6211\n",
      "Epoch 8/15\n",
      "473/473 [==============================] - 48s 102ms/step - loss: 1.1934 - accuracy: 0.6294\n",
      "Epoch 9/15\n",
      "473/473 [==============================] - 49s 103ms/step - loss: 1.1655 - accuracy: 0.6373\n",
      "Epoch 10/15\n",
      "473/473 [==============================] - 49s 103ms/step - loss: 1.1402 - accuracy: 0.6447\n",
      "Epoch 11/15\n",
      "473/473 [==============================] - 49s 104ms/step - loss: 1.1194 - accuracy: 0.6508\n",
      "Epoch 12/15\n",
      "473/473 [==============================] - 50s 105ms/step - loss: 1.1023 - accuracy: 0.6559\n",
      "Epoch 13/15\n",
      "473/473 [==============================] - 48s 102ms/step - loss: 1.0875 - accuracy: 0.6602\n",
      "Epoch 14/15\n",
      "473/473 [==============================] - 49s 104ms/step - loss: 1.0741 - accuracy: 0.6641\n",
      "Epoch 15/15\n",
      "473/473 [==============================] - 49s 103ms/step - loss: 1.0626 - accuracy: 0.6673\n"
     ]
    }
   ],
   "source": [
    "EPOCH=15\n",
    "history = model_lstm.fit(train_dataset, epochs= EPOCH , callbacks=[checkpoint_callback])"
   ]
  },
  {
   "cell_type": "markdown",
   "metadata": {
    "id": "O0SRjEEtXPoY"
   },
   "source": [
    "##### accuracy and loss plot"
   ]
  },
  {
   "cell_type": "code",
   "execution_count": null,
   "metadata": {
    "colab": {
     "base_uri": "https://localhost:8080/",
     "height": 347
    },
    "id": "uuBC1un2L73y",
    "outputId": "fc9d6518-3e2b-480a-d5f9-931416527eec",
    "scrolled": false
   },
   "outputs": [
    {
     "data": {
      "image/png": "[encoded data removed]",
      "text/plain": [
       "<Figure size 1440x720 with 2 Axes>"
      ]
     },
     "metadata": {
      "needs_background": "light"
     },
     "output_type": "display_data"
    }
   ],
   "source": [
    "import matplotlib.pyplot as plt\n",
    "acc = history.history['accuracy']\n",
    "loss = history.history['loss']\n",
    "\n",
    "epochs = range(15)\n",
    "\n",
    "plt.figure(figsize = (20,10))\n",
    "plt.subplot(1,2,1)\n",
    "plt.plot(epochs, acc, label='Training Accuracy')\n",
    "plt.ylim([0,1])\n",
    "plt.legend()\n",
    "plt.title('Training Accuracy')\n",
    "\n",
    "plt.subplot(1, 2, 2)\n",
    "plt.plot(epochs, loss, label='Training Loss')\n",
    "plt.ylim([0,3])\n",
    "plt.legend()\n",
    "plt.title('Training Loss')\n",
    "plt.show()"
   ]
  },
  {
   "cell_type": "code",
   "execution_count": null,
   "metadata": {},
   "outputs": [],
   "source": [
    "model = lstm_model(vocab_size,  batch_size=1)\n",
    "model.load_weights(tf.train.latest_checkpoint('/content/lstm_weights'))\n",
    "model.build(tf.TensorShape([1, None]))"
   ]
  },
  {
   "cell_type": "markdown",
   "metadata": {
    "id": "ADewSDeFpsSb"
   },
   "source": [
    "##### shakespeare text generation"
   ]
  },
  {
   "cell_type": "code",
   "execution_count": null,
   "metadata": {
    "id": "9Z_TwcxwVShJ"
   },
   "outputs": [],
   "source": [
    "start_string= \"JULIET\""
   ]
  },
  {
   "cell_type": "code",
   "execution_count": null,
   "metadata": {
    "colab": {
     "base_uri": "https://localhost:8080/"
    },
    "id": "hjG5yg5YQKfk",
    "outputId": "3155f7eb-1a73-4476-fcef-51ec532181cb"
   },
   "outputs": [
    {
     "name": "stdout",
     "output_type": "stream",
     "text": [
      "JULIET:\n",
      "The countess of our prisoners shall be looked to\n",
      "depand the armour of a courtier, strong,\n",
      "As black as hateful and a dream, the wind\n",
      "Will charity in triumph in the court.\n",
      "This present war be wrenged by the ground;\n",
      "And in the earth of heaven shall have the heart\n",
      "I'll have thee cross there.\n",
      "\n",
      "SICINIUS:\n",
      "What would you win our former streets,\n",
      "Yet would be sure of me and bears his oath\n",
      "And labourer from your sinews of the land,\n",
      "That I did see your heart to speak with him.\n",
      "\n",
      "CANDERBY:\n",
      "And so, but this is pastime in the hill.\n",
      "\n",
      "KING JOHN:\n",
      "Fear not the lady, the prince is all one:\n",
      "The vengeance of the ground the field\n",
      "Do the white haunt of this audience,\n",
      "To have she hath enjoy the worse fortune play'd,\n",
      "And these fourteen mouths of traitors are as\n",
      "easily and time for a potent death of the storm,\n",
      "That they shall be desperate of the mouth,\n",
      "The time and with a holy tale of the earth\n",
      "In the end of his fresh esteems the life\n",
      "of his own right hands and to be revenged on his head,\n",
      "And strike him from th\n"
     ]
    }
   ],
   "source": [
    "generated_text = generate_text(\n",
    "                    model, \n",
    "                    num_generate = 1000, \n",
    "                    temperature = 0.5, \n",
    "                    start_string = start_string\n",
    "                    )\n",
    "\n",
    "print(generated_text)"
   ]
  },
  {
   "cell_type": "markdown",
   "metadata": {},
   "source": [
    "<br><br><br><br><br><br><br><br><br><br><br><br>"
   ]
  },
  {
   "cell_type": "markdown",
   "metadata": {
    "id": "eLDm2_9pkXGr"
   },
   "source": [
    "### **Using GRU**"
   ]
  },
  {
   "cell_type": "markdown",
   "metadata": {
    "id": "T_Fwe7WUdyqc"
   },
   "source": [
    "##### GRU model creation"
   ]
  },
  {
   "cell_type": "code",
   "execution_count": 15,
   "metadata": {
    "id": "f9tLdl7pdyqd"
   },
   "outputs": [],
   "source": [
    "def gru_model(vocab_size, batch_size ):\n",
    "  model = tf.keras.Sequential([tf.keras.layers.Embedding(vocab_size, 256,\n",
    "                        batch_input_shape=[batch_size, None]),\n",
    "  tf.keras.layers.GRU(1024, \n",
    "                      return_sequences=True,\n",
    "                      stateful=True,\n",
    "                      recurrent_initializer='glorot_uniform'),\n",
    "  tf.keras.layers.Dense(vocab_size)\n",
    "  ])\n",
    "  return model"
   ]
  },
  {
   "cell_type": "code",
   "execution_count": 16,
   "metadata": {
    "id": "XUG3-Bixdyqd"
   },
   "outputs": [],
   "source": [
    "model_gru = gru_model(vocab_size , BATCH_SIZE)\n"
   ]
  },
  {
   "cell_type": "markdown",
   "metadata": {
    "id": "5eGbwRRRdyqe"
   },
   "source": [
    "##### compiling"
   ]
  },
  {
   "cell_type": "code",
   "execution_count": 17,
   "metadata": {
    "id": "mJBF77Tsdyqe"
   },
   "outputs": [],
   "source": [
    "def loss(labels, logits):\n",
    "  return tf.keras.losses.sparse_categorical_crossentropy(labels, logits, from_logits=True)\n",
    "\n"
   ]
  },
  {
   "cell_type": "code",
   "execution_count": 18,
   "metadata": {
    "id": "wPtlNsmHdyqe"
   },
   "outputs": [],
   "source": [
    "model_gru.compile(optimizer='adam', loss=loss,\n",
    "                  metrics=['accuracy'])"
   ]
  },
  {
   "cell_type": "markdown",
   "metadata": {
    "id": "0OMTK6OGdyqd"
   },
   "source": [
    "##### configuring Checkpoints"
   ]
  },
  {
   "cell_type": "code",
   "execution_count": 19,
   "metadata": {
    "id": "-WNjm4oqdyqd"
   },
   "outputs": [],
   "source": [
    "weights_dir = './gruu_weights'\n",
    "gru_checkpoint_prefix = os.path.join(weights_dir, \"check_{epoch}\")\n",
    "gru_checkpoint_callback = tf.keras.callbacks.ModelCheckpoint(\n",
    "filepath = gru_checkpoint_prefix,\n",
    "save_weights_only = True,\n",
    ")"
   ]
  },
  {
   "cell_type": "code",
   "execution_count": 20,
   "metadata": {
    "colab": {
     "base_uri": "https://localhost:8080/"
    },
    "id": "v9GzsYSBdyqf",
    "outputId": "e3600121-9c77-4454-b736-b49ea8cbb224"
   },
   "outputs": [
    {
     "name": "stdout",
     "output_type": "stream",
     "text": [
      "Epoch 1/15\n",
      "473/473 [==============================] - 45s 81ms/step - loss: 2.2254 - accuracy: 0.3740\n",
      "Epoch 2/15\n",
      "473/473 [==============================] - 39s 81ms/step - loss: 1.6458 - accuracy: 0.5108\n",
      "Epoch 3/15\n",
      "473/473 [==============================] - 38s 81ms/step - loss: 1.4761 - accuracy: 0.5561\n",
      "Epoch 4/15\n",
      "473/473 [==============================] - 39s 82ms/step - loss: 1.3871 - accuracy: 0.5793\n",
      "Epoch 5/15\n",
      "473/473 [==============================] - 38s 81ms/step - loss: 1.3325 - accuracy: 0.5933\n",
      "Epoch 6/15\n",
      "473/473 [==============================] - 39s 81ms/step - loss: 1.2929 - accuracy: 0.6037\n",
      "Epoch 7/15\n",
      "473/473 [==============================] - 39s 82ms/step - loss: 1.2599 - accuracy: 0.6123\n",
      "Epoch 8/15\n",
      "473/473 [==============================] - 39s 81ms/step - loss: 1.2297 - accuracy: 0.6206\n",
      "Epoch 9/15\n",
      "473/473 [==============================] - 38s 81ms/step - loss: 1.2018 - accuracy: 0.6285\n",
      "Epoch 10/15\n",
      "473/473 [==============================] - 38s 81ms/step - loss: 1.1761 - accuracy: 0.6360\n",
      "Epoch 11/15\n",
      "473/473 [==============================] - 38s 81ms/step - loss: 1.1548 - accuracy: 0.6422\n",
      "Epoch 12/15\n",
      "473/473 [==============================] - 38s 81ms/step - loss: 1.1406 - accuracy: 0.6462\n",
      "Epoch 13/15\n",
      "473/473 [==============================] - 38s 81ms/step - loss: 1.1340 - accuracy: 0.6478\n",
      "Epoch 14/15\n",
      "473/473 [==============================] - 38s 81ms/step - loss: 1.1281 - accuracy: 0.6492\n",
      "Epoch 15/15\n",
      "473/473 [==============================] - 39s 82ms/step - loss: 1.1222 - accuracy: 0.6506\n"
     ]
    }
   ],
   "source": [
    "EPOCH=15\n",
    "history_gru = model_gru.fit(train_dataset, epochs= EPOCH , callbacks=[gru_checkpoint_callback])"
   ]
  },
  {
   "cell_type": "markdown",
   "metadata": {
    "id": "i9skspUddyqf"
   },
   "source": [
    "##### accuracy and loss plot"
   ]
  },
  {
   "cell_type": "code",
   "execution_count": 21,
   "metadata": {
    "colab": {
     "base_uri": "https://localhost:8080/",
     "height": 347
    },
    "id": "5bGPq2Ewdyqf",
    "outputId": "170ff3c7-0abf-4808-c1c7-35b47f59309b"
   },
   "outputs": [
    {
     "data": {
      "image/png": "[encoded data removed]",
      "text/plain": [
       "<Figure size 1440x720 with 2 Axes>"
      ]
     },
     "metadata": {
      "needs_background": "light"
     },
     "output_type": "display_data"
    }
   ],
   "source": [
    "import matplotlib.pyplot as plt\n",
    "acc = history_gru.history['accuracy']\n",
    "loss = history_gru.history['loss']\n",
    "\n",
    "epochs = range(15)\n",
    "\n",
    "plt.figure(figsize = (20,10))\n",
    "plt.subplot(1,2,1)\n",
    "plt.plot(epochs, acc, label='Training Accuracy')\n",
    "plt.ylim([0,1])\n",
    "plt.legend()\n",
    "plt.title('Training Accuracy')\n",
    "\n",
    "plt.subplot(1, 2, 2)\n",
    "plt.plot(epochs, loss, label='Training Loss')\n",
    "plt.ylim([0,3])\n",
    "plt.legend()\n",
    "plt.title('Training Loss')\n",
    "plt.show()"
   ]
  },
  {
   "cell_type": "code",
   "execution_count": null,
   "metadata": {},
   "outputs": [],
   "source": [
    "model_gru = gru_model(vocab_size,  batch_size=1)\n",
    "model_gru.load_weights(tf.train.latest_checkpoint('/content/gruu_weights'))\n",
    "model_gru.build(tf.TensorShape([1, None]))"
   ]
  },
  {
   "cell_type": "markdown",
   "metadata": {
    "id": "Nkr-EP6bpqA0"
   },
   "source": [
    "##### shakespeare text generation"
   ]
  },
  {
   "cell_type": "code",
   "execution_count": 23,
   "metadata": {
    "id": "nsTtTLDOdyqg"
   },
   "outputs": [],
   "source": [
    "start_string= \"JULIET\""
   ]
  },
  {
   "cell_type": "code",
   "execution_count": 24,
   "metadata": {
    "colab": {
     "base_uri": "https://localhost:8080/"
    },
    "id": "nvLmZMtWdyqg",
    "outputId": "e66c6710-bd58-455a-b6d4-c5ec6dc8e41f",
    "scrolled": false
   },
   "outputs": [
    {
     "name": "stdout",
     "output_type": "stream",
     "text": [
      "JULIET:\n",
      "An I were black and frown of chance, sir; we will be of this prince,\n",
      "To stay all with a parts to give his rest:\n",
      "And you are full of spirit and the lion with the\n",
      "company; and then you shall be as good as heart\n",
      "As bring a boy hell have all suffer sounds\n",
      "That play the word of all our housewifence and dear's passion wrongs\n",
      "And play at all his remorse and dur state,\n",
      "The ears of the king's and the bloody soul\n",
      "Come to his purse. I would not say 'tis not for all the grave\n",
      "To put the form of such an enemy,\n",
      "That now is privileged, and deny it out,\n",
      "And do not work his hands and red and right,\n",
      "Like a dream to the rest of the world,\n",
      "The first the world shall suck the fire of blood and storms\n",
      "Are as he was a breast, my lord;\n",
      "And he that hath an earthless eyes, with any part\n",
      "Against the duke and change of a blessed shore,\n",
      "And therefore might have been seen before me.\n",
      "\n",
      "KING JOHN:\n",
      "We will die as a scene in England.\n",
      "\n",
      "MALVOLIO:\n",
      "'If the rest go with me to the court,\n",
      "When youth and our friends are all al\n"
     ]
    }
   ],
   "source": [
    "\n",
    "generated_text = generate_text(\n",
    "                    model_gru, \n",
    "                    num_generate = 1000, \n",
    "                    temperature = 0.5, \n",
    "                    start_string = start_string\n",
    "                    )\n",
    "\n",
    "print(generated_text)"
   ]
  },
  {
   "cell_type": "markdown",
   "metadata": {
    "id": "qy6ELpBap3yf"
   },
   "source": [
    "## Thank you :)"
   ]
  }
 ],
 "metadata": {
  "accelerator": "GPU",
  "colab": {
   "collapsed_sections": [],
   "provenance": []
  },
  "kernelspec": {
   "display_name": "Python 3 (ipykernel)",
   "language": "python",
   "name": "python3"
  },
  "language_info": {
   "codemirror_mode": {
    "name": "ipython",
    "version": 3
   },
   "file_extension": ".py",
   "mimetype": "text/x-python",
   "name": "python",
   "nbconvert_exporter": "python",
   "pygments_lexer": "ipython3",
   "version": "3.9.12"
  }
 },
 "nbformat": 4,
 "nbformat_minor": 1
}
