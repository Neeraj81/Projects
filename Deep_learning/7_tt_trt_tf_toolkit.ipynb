{
 "cells": [
  {
   "cell_type": "markdown",
   "metadata": {
    "id": "xsBVkSdqaKrM"
   },
   "source": [
    "<!--#  **ML Campus Batch Aug 2022 - Bangalore**\n",
    "<br>\n",
    "\n",
    "### **Assignment 10** - Optimize \n",
    "-->\n",
    "Model Performance Using TF-TRT and TensorFlow Model Optimization Toolkit\n",
    "\n",
    "* Using all the models (VGG16, ResNet50 and InceptionV3) that you trained in Assignment 6 on the Plant Seedlings Dataset to undertake the following tasks.\n",
    "\n",
    "#### **Optimization of Tensorflow Models with TensorRT**\n",
    "1. Exporting each of the models to a TensorFlow saved model\n",
    "\n",
    "2. Converting and find the time taken for inference for about 500 runs of this saved model on a batch size of 16 images by converting it to a:\n",
    "\n",
    "  * TF-TRT FP32 model\n",
    "\n",
    "  * TF-TRT FP16 model\n",
    "\n",
    "  * TF-TRT INT8 model (with calibration)\n",
    "\n",
    "3. Note down the timings each model takes to run inference and which one performs better\n",
    "\n",
    "#### **Model Optimization Using Tensorflow**\n",
    "\n",
    "1. Converting each of the models to a TensorFlow Lite model.\n",
    "\n",
    "2. Combining post-training dynamic range quantization and pruning and report the reduction in model size.\n",
    "\n",
    "3. Evaluating the accuracy of the optimized model(s) created in the task above against the accuracy of the original model(s). The accuracy could be evaluated either on the complete test set used in earlier assignments or a part of it.\n",
    "\n",
    "<!--\n",
    "\n",
    "<br>\n",
    "\n",
    "\n",
    "###### submitted by: Neeraj Ganji \n",
    "###### submitted on: 7th NOV 2022\n",
    "\n",
    "ID: 23133\n",
    "-->\n",
    "\n",
    "<br>\n",
    "<br>\n",
    "<br>\n",
    "<br>\n",
    "<br>\n",
    "<br>"
   ]
  },
  {
   "cell_type": "raw",
   "metadata": {
    "id": "V6oj7Bu3gDnQ"
   },
   "source": [
    "##### Importing required libs"
   ]
  },
  {
   "cell_type": "code",
   "execution_count": 3,
   "metadata": {
    "id": "xR1XV3Are905"
   },
   "outputs": [],
   "source": [
    "import numpy as np\n",
    "import pandas as pd\n",
    "import tensorflow as tf\n",
    "import matplotlib.pyplot as plt\n",
    "plt.style.use('ggplot')\n",
    "import os\n",
    "import seaborn as sns\n",
    "from PIL import Image\n",
    "from sklearn.model_selection import train_test_split\n"
   ]
  },
  {
   "cell_type": "markdown",
   "metadata": {
    "id": "5wSoeCpjlWV0"
   },
   "source": [
    "##### Installing and importing libs for Model Optimization Using Tensorflow"
   ]
  },
  {
   "cell_type": "code",
   "execution_count": 4,
   "metadata": {
    "id": "mU62P0knlSNu"
   },
   "outputs": [],
   "source": [
    "! pip install tensorflow_model_optimization -q\n",
    "import tensorflow_model_optimization as tfmot"
   ]
  },
  {
   "cell_type": "markdown",
   "metadata": {
    "id": "1dWnbAekdn7-"
   },
   "source": [
    "##### Installing and importing libs for Optimization of Tensorflow Models with TensorRT\n",
    "### **Note**: Install this at the time of Tensor RT"
   ]
  },
  {
   "cell_type": "code",
   "execution_count": null,
   "metadata": {
    "colab": {
     "base_uri": "https://localhost:8080/"
    },
    "id": "H5dDATtuQxxL",
    "outputId": "8d082579-a68e-4fff-b9fc-5ba4bd746321"
   },
   "outputs": [
    {
     "name": "stdout",
     "output_type": "stream",
     "text": [
      "\u001b[K     |████████████████████████████████| 86.3 MB 66 kB/s \n",
      "\u001b[K     |████████████████████████████████| 449 kB 53.7 MB/s \n",
      "\u001b[K     |████████████████████████████████| 3.8 MB 51.0 MB/s \n",
      "\u001b[K     |████████████████████████████████| 50 kB 6.9 MB/s \n",
      "\u001b[?25h  Building wheel for gast (setup.py) ... \u001b[?25l\u001b[?25hdone\n",
      "\u001b[31mERROR: pip's dependency resolver does not currently take into account all the packages that are installed. This behaviour is the source of the following dependency conflicts.\n",
      "tensorflow-probability 0.17.0 requires gast>=0.3.2, but you have gast 0.2.2 which is incompatible.\u001b[0m\n"
     ]
    }
   ],
   "source": [
    "pip install tensorflow==2.0.0 -q"
   ]
  },
  {
   "cell_type": "code",
   "execution_count": null,
   "metadata": {
    "id": "TZApYLLwCnrv"
   },
   "outputs": [],
   "source": [
    "from tensorflow.python.compiler.tensorrt import trt_convert as trt"
   ]
  },
  {
   "cell_type": "markdown",
   "metadata": {
    "id": "C5PL6GMWhV8h"
   },
   "source": [
    "#### **NOTE** : Here we have Exported each of the models to a TensorFlow saved model in Assignment-6 itself.\n",
    "\n",
    "#### Now we are loading them from the gdrive(where we have saved the models)"
   ]
  },
  {
   "cell_type": "markdown",
   "metadata": {
    "id": "drOOLVPLgHAS"
   },
   "source": [
    "##### connecting to gdrive for loading the saved models (which we have created in the Assignment-6 on the Plant Seedlings Dataset)"
   ]
  },
  {
   "cell_type": "code",
   "execution_count": 3,
   "metadata": {
    "colab": {
     "base_uri": "https://localhost:8080/"
    },
    "id": "QhkwMAbXez5G",
    "outputId": "12eaaa11-d410-4e6b-b7c3-48131edf070d"
   },
   "outputs": [
    {
     "name": "stdout",
     "output_type": "stream",
     "text": [
      "Mounted at /content/drive\n"
     ]
    }
   ],
   "source": [
    "from google.colab import drive\n",
    "drive.mount('/content/drive')"
   ]
  },
  {
   "cell_type": "markdown",
   "metadata": {
    "id": "0vLgNVeAg4Zl"
   },
   "source": [
    "##### Loading the Trained **VGG16, Inception, ResNet50** models\n",
    "\n",
    "* This saved model on a batch size of 16 images"
   ]
  },
  {
   "cell_type": "code",
   "execution_count": 16,
   "metadata": {
    "id": "9LxKp8NceYM1"
   },
   "outputs": [],
   "source": [
    "vgg = tf.keras.models.load_model('/content/drive/MyDrive/models_10/vgg/vgg_model')\n",
    "inception_model = tf.keras.models.load_model('/content/drive/MyDrive/models_10/inception/inception_model')\n",
    "resnet_model = tf.keras.models.load_model('/content/drive/MyDrive/models_10/resnet/resnet_model')"
   ]
  },
  {
   "cell_type": "markdown",
   "metadata": {
    "id": "wCFVLCyziXEs"
   },
   "source": [
    "#### Before getting into optimization we need to load the dataset for finding accuracy of the optimized models.\n",
    "\n",
    "\n",
    "### **Note**: I have already stored the dataset in my gdrive \n",
    "\n",
    "#### now, we just need to import them into this runtime"
   ]
  },
  {
   "cell_type": "markdown",
   "metadata": {
    "id": "LdI3JTAkCs4T"
   },
   "source": [
    "> this is the path of dataset stored in the Gdrive '/content/drive/MyDrive/models_10/train/'\n",
    "\n",
    "\n",
    "\n",
    "\n",
    "\n",
    "\n"
   ]
  },
  {
   "cell_type": "code",
   "execution_count": 1,
   "metadata": {
    "id": "iGwfgAAzkf7P"
   },
   "outputs": [],
   "source": [
    "\n",
    "def data_load():\n",
    "  y_train = []\n",
    "  x_train = []\n",
    "  d = ['Black-grass', 'Charlock', 'Cleavers', 'Common Chickweed', 'Fat Hen', 'Loose Silky-bent', 'Maize','Common wheat', 'Scentless Mayweed', 'Shepherds Purse', 'Small-flowered Cranesbill', 'Sugar beet']\n",
    "  j=0\n",
    "  for dire in d:\n",
    "      for i in os.listdir('/content/drive/MyDrive/models_10/data/train/' + dire + '/'):\n",
    "          file = f\"{'/content/drive/MyDrive/models_10/data/train/' + dire + '/'}{i}\"\n",
    "          im = Image.open(file).convert('RGB')\n",
    "          im = im.resize((128, 128), Image.ANTIALIAS)\n",
    "          im = tf.keras.preprocessing.image.img_to_array(im)\n",
    "          x_train.append(im)\n",
    "          y_train.append(j)\n",
    "      j = j + 1\n",
    "  return (x_train, y_train)"
   ]
  },
  {
   "cell_type": "code",
   "execution_count": 5,
   "metadata": {
    "id": "kzSEGsksksO-"
   },
   "outputs": [],
   "source": [
    "x_train, y_train = data_load()"
   ]
  },
  {
   "cell_type": "code",
   "execution_count": 6,
   "metadata": {
    "id": "bniez6B7lBJs"
   },
   "outputs": [],
   "source": [
    "y_train = pd.get_dummies(y_train)\n",
    "y_train = np.array(y_train)"
   ]
  },
  {
   "cell_type": "markdown",
   "metadata": {
    "id": "0TpRVLMPK40Z"
   },
   "source": [
    "##### Evaluate funtion which is used in tflite to evalute the test dataset for getting accuracy"
   ]
  },
  {
   "cell_type": "code",
   "execution_count": 7,
   "metadata": {
    "id": "gf4rtWscEYKR"
   },
   "outputs": [],
   "source": [
    "def evaluate(interpreter, test_x):\n",
    "  prediction= []\n",
    "  input_index = interpreter.get_input_details()[0][\"index\"]\n",
    "  output_index = interpreter.get_output_details()[0][\"index\"]\n",
    "  input_format = interpreter.get_output_details()[0]['dtype']\n",
    "  \n",
    "  for i, test_image in enumerate(test_x):\n",
    "    if i % 100 == 0:\n",
    "      print('Evaluated on {n} results so far.'.format(n=i))\n",
    "    test_image = np.expand_dims(test_image, axis=0).astype(input_format)\n",
    "    interpreter.set_tensor(input_index, test_image)\n",
    " \n",
    "    # Run inference.\n",
    "    interpreter.invoke()\n",
    "    output = interpreter.tensor(output_index)\n",
    "    predicted_label = np.argmax(output()[0])\n",
    "    prediction.append(predicted_label)\n",
    "    \n",
    "  print('\\n')\n",
    "  # Comparing prediction results with ground truth labels to calculate accuracy.\n",
    "  prediction = np.array(prediction)\n",
    "  accuracy = (prediction == test_labels).mean()\n",
    "  return accuracy"
   ]
  },
  {
   "cell_type": "markdown",
   "metadata": {
    "id": "enY3c40PEldl"
   },
   "source": [
    "<br>\n",
    "<br>\n",
    "<br>\n",
    "<br>\n",
    "<br>\n",
    "<br><br>\n",
    "<br>\n",
    "<br>\n",
    "\n",
    "## **VGG16 Model**\n"
   ]
  },
  {
   "cell_type": "markdown",
   "metadata": {
    "id": "d9mlWQSTFWCV"
   },
   "source": [
    "#### Before getting into optimization we need to preprocess the train dataset according to the model(VGG16)"
   ]
  },
  {
   "cell_type": "code",
   "execution_count": 12,
   "metadata": {
    "id": "S7nWs_iwFF2k"
   },
   "outputs": [],
   "source": [
    "x_train_vgg = (np.array(x_train))\n",
    "x_train_vgg= tf.keras.applications.vgg16.preprocess_input(x_train_vgg)"
   ]
  },
  {
   "cell_type": "code",
   "execution_count": 13,
   "metadata": {
    "id": "fNl_rFemFF2l"
   },
   "outputs": [],
   "source": [
    "train_x, test_x, train_y, test_y = train_test_split(x_train_vgg, y_train, test_size = 0.15, stratify = y_train)"
   ]
  },
  {
   "cell_type": "markdown",
   "metadata": {
    "id": "qPfMXOK8G2l9"
   },
   "source": [
    "##### Test labels for calculating accuracy of the models."
   ]
  },
  {
   "cell_type": "code",
   "execution_count": 14,
   "metadata": {
    "id": "9Ri2VjDiG8KS"
   },
   "outputs": [],
   "source": [
    "test_labels = []\n",
    "for i in test_y:\n",
    "  test_labels.append(np.argmax(i))"
   ]
  },
  {
   "cell_type": "markdown",
   "metadata": {
    "id": "qxTkXTdUIGVk"
   },
   "source": [
    "##### Now we need to train the model with batch size 16 "
   ]
  },
  {
   "cell_type": "code",
   "execution_count": 20,
   "metadata": {
    "id": "EUj-j0cshd3h"
   },
   "outputs": [],
   "source": [
    "vgg.compile(optimizer='adam',loss='categorical_crossentropy',metrics=['accuracy'])"
   ]
  },
  {
   "cell_type": "code",
   "execution_count": 21,
   "metadata": {
    "colab": {
     "base_uri": "https://localhost:8080/"
    },
    "id": "FR7Bh5tihvvo",
    "outputId": "fe2d0c9a-aa1e-4b98-f267-e748ff0d641c"
   },
   "outputs": [
    {
     "name": "stdout",
     "output_type": "stream",
     "text": [
      "Epoch 1/15\n",
      "253/253 [==============================] - 10s 36ms/step - loss: 1.0959 - accuracy: 0.6847 - val_loss: 0.7914 - val_accuracy: 0.7181\n",
      "Epoch 2/15\n",
      "253/253 [==============================] - 9s 35ms/step - loss: 0.5124 - accuracy: 0.8162 - val_loss: 0.6740 - val_accuracy: 0.7728\n",
      "Epoch 3/15\n",
      "253/253 [==============================] - 9s 36ms/step - loss: 0.3166 - accuracy: 0.8913 - val_loss: 0.7903 - val_accuracy: 0.7686\n",
      "Epoch 4/15\n",
      "253/253 [==============================] - 9s 37ms/step - loss: 0.2385 - accuracy: 0.9188 - val_loss: 0.6433 - val_accuracy: 0.7952\n",
      "Epoch 5/15\n",
      "253/253 [==============================] - 9s 36ms/step - loss: 0.1879 - accuracy: 0.9401 - val_loss: 0.6872 - val_accuracy: 0.7910\n",
      "Epoch 6/15\n",
      "253/253 [==============================] - 9s 35ms/step - loss: 0.1662 - accuracy: 0.9458 - val_loss: 0.7562 - val_accuracy: 0.7952\n",
      "Epoch 7/15\n",
      "253/253 [==============================] - 9s 35ms/step - loss: 0.1093 - accuracy: 0.9693 - val_loss: 0.7614 - val_accuracy: 0.7952\n",
      "Epoch 8/15\n",
      "253/253 [==============================] - 9s 35ms/step - loss: 0.0912 - accuracy: 0.9695 - val_loss: 0.7246 - val_accuracy: 0.7868\n",
      "Epoch 9/15\n",
      "253/253 [==============================] - 9s 35ms/step - loss: 0.0630 - accuracy: 0.9829 - val_loss: 0.9122 - val_accuracy: 0.7868\n",
      "Epoch 10/15\n",
      "253/253 [==============================] - 9s 35ms/step - loss: 0.0399 - accuracy: 0.9893 - val_loss: 0.7569 - val_accuracy: 0.8022\n",
      "Epoch 11/15\n",
      "253/253 [==============================] - 9s 35ms/step - loss: 0.0190 - accuracy: 0.9980 - val_loss: 0.8001 - val_accuracy: 0.8079\n",
      "Epoch 12/15\n",
      "253/253 [==============================] - 9s 36ms/step - loss: 0.0130 - accuracy: 0.9985 - val_loss: 0.7855 - val_accuracy: 0.8022\n",
      "Epoch 13/15\n",
      "253/253 [==============================] - 9s 35ms/step - loss: 0.0092 - accuracy: 0.9993 - val_loss: 0.8260 - val_accuracy: 0.7924\n",
      "Epoch 14/15\n",
      "253/253 [==============================] - 9s 35ms/step - loss: 0.0138 - accuracy: 0.9985 - val_loss: 0.8035 - val_accuracy: 0.8065\n",
      "Epoch 15/15\n",
      "253/253 [==============================] - 9s 35ms/step - loss: 0.0061 - accuracy: 0.9998 - val_loss: 0.8224 - val_accuracy: 0.8065\n"
     ]
    }
   ],
   "source": [
    "vgg_history__ = vgg.fit(train_x, train_y,epochs=15,validation_data=(test_x,test_y), batch_size=16)"
   ]
  },
  {
   "cell_type": "markdown",
   "metadata": {
    "id": "Uz9p1QQhJvm6"
   },
   "source": [
    "##### Original model Test Accuracy"
   ]
  },
  {
   "cell_type": "code",
   "execution_count": 22,
   "metadata": {
    "colab": {
     "base_uri": "https://localhost:8080/"
    },
    "id": "UpsuQj3wJzJr",
    "outputId": "0e263470-be33-475f-b905-09ae639a9c63"
   },
   "outputs": [
    {
     "name": "stdout",
     "output_type": "stream",
     "text": [
      "Vgg Baseline Dodel test accuracy: 80.64516186714172 %\n"
     ]
    }
   ],
   "source": [
    "_, baseline_model_accuracy = vgg.evaluate(\n",
    "    test_x, test_y, verbose=0)\n",
    "print('Vgg Baseline Dodel test accuracy:', (baseline_model_accuracy)*100, \"%\")"
   ]
  },
  {
   "cell_type": "markdown",
   "metadata": {
    "id": "AdCcEoxxqanl"
   },
   "source": [
    "##### Original VGG16 Model size"
   ]
  },
  {
   "cell_type": "code",
   "execution_count": 23,
   "metadata": {
    "colab": {
     "base_uri": "https://localhost:8080/"
    },
    "id": "-xpokZmTMx-m",
    "outputId": "2276a068-77eb-45bc-fea7-8d9863a38c3e"
   },
   "outputs": [
    {
     "name": "stdout",
     "output_type": "stream",
     "text": [
      "Model size is 62586159 Bytes\n"
     ]
    }
   ],
   "source": [
    "def get_dir_size(path='.'):\n",
    "    total = 0\n",
    "    with os.scandir(path) as it:\n",
    "        for entry in it:\n",
    "            if entry.is_file():\n",
    "                total += entry.stat().st_size\n",
    "            elif entry.is_dir():\n",
    "                total += get_dir_size(entry.path)\n",
    "    return total\n",
    "\n",
    "print(\"Model size is \"+ str(get_dir_size('/content/drive/MyDrive/models_10/vgg/vgg_model'))+ \" Bytes\")\n"
   ]
  },
  {
   "cell_type": "markdown",
   "metadata": {
    "id": "Dzp7ZJQVEi0h"
   },
   "source": [
    "### **Model Optimization Using Tensorflow**"
   ]
  },
  {
   "cell_type": "markdown",
   "metadata": {
    "id": "dovyNeO9GVvg"
   },
   "source": [
    "#### **VGG16 Tflite Conversion (Post Training Dynamic range quantization)**"
   ]
  },
  {
   "cell_type": "code",
   "execution_count": 25,
   "metadata": {
    "colab": {
     "base_uri": "https://localhost:8080/"
    },
    "id": "m_wYaS5MEYM5",
    "outputId": "2203585d-d923-4b11-f43d-1a8d10903aee"
   },
   "outputs": [
    {
     "name": "stderr",
     "output_type": "stream",
     "text": [
      "WARNING:absl:Found untraced functions such as _jit_compiled_convolution_op, _jit_compiled_convolution_op, _jit_compiled_convolution_op, _jit_compiled_convolution_op, _jit_compiled_convolution_op while saving (showing 5 of 13). These functions will not be directly callable after loading.\n"
     ]
    }
   ],
   "source": [
    "# converting the model into tensorflow lite\n",
    "\n",
    "converter = tf.lite.TFLiteConverter.from_keras_model(vgg)\n",
    "converter.optimizations = [tf.lite.Optimize.DEFAULT]\n",
    "tflite_model = converter.convert()\n",
    "# Here we are saving the converted model in a file model.tflite\n",
    "with open('/content/drive/MyDrive/models_10/vgg/vgg.tflite','wb') as f:\n",
    "  f.write(tflite_model)"
   ]
  },
  {
   "cell_type": "markdown",
   "metadata": {
    "id": "2Z4EF5XEKn0A"
   },
   "source": [
    "##### Calculating the converted model accuracy"
   ]
  },
  {
   "cell_type": "code",
   "execution_count": 60,
   "metadata": {
    "colab": {
     "base_uri": "https://localhost:8080/"
    },
    "id": "-Jet9U7PEYHi",
    "outputId": "d5f01f31-c058-47ba-e293-9f7043172d43"
   },
   "outputs": [
    {
     "name": "stdout",
     "output_type": "stream",
     "text": [
      "Evaluated on 0 results so far.\n",
      "Evaluated on 100 results so far.\n",
      "Evaluated on 200 results so far.\n",
      "Evaluated on 300 results so far.\n",
      "Evaluated on 400 results so far.\n",
      "Evaluated on 500 results so far.\n",
      "Evaluated on 600 results so far.\n",
      "Evaluated on 700 results so far.\n",
      "\n",
      "\n",
      "Vgg tflite model test accuracy 78.12061711079944 %\n"
     ]
    }
   ],
   "source": [
    "# Here we are loading the converted model\n",
    "\n",
    "interpreter = tf.lite.Interpreter('/content/drive/MyDrive/models_10/vgg/vgg.tflite')\n",
    "# Here we are allocating the tensors to the converted model \n",
    "interpreter.allocate_tensors()\n",
    "test_accuracy = evaluate(interpreter, test_x)\n",
    "print('Vgg tflite model test accuracy '+ str(test_accuracy*100)+\" %\")"
   ]
  },
  {
   "cell_type": "markdown",
   "metadata": {
    "id": "1HKQdkgCh33f"
   },
   "source": [
    "##### File size of VGG16 tflite"
   ]
  },
  {
   "cell_type": "code",
   "execution_count": 29,
   "metadata": {
    "colab": {
     "base_uri": "https://localhost:8080/"
    },
    "id": "v7oqINeuMkxY",
    "outputId": "053993be-ae52-4ff5-b95a-30d3571c52a1"
   },
   "outputs": [
    {
     "name": "stdout",
     "output_type": "stream",
     "text": [
      "File Size of vgg_tflite is : 15059376 bytes\n"
     ]
    }
   ],
   "source": [
    "import os\n",
    "file_size = os.path.getsize('/content/drive/MyDrive/models_10/vgg/vgg.tflite')\n",
    "print(\"File Size of vgg_tflite is :\", file_size, \"bytes\")"
   ]
  },
  {
   "cell_type": "markdown",
   "metadata": {
    "id": "-MM0jW77LcHO"
   },
   "source": [
    "#### **VGG Model optimizing using pruning**"
   ]
  },
  {
   "cell_type": "code",
   "execution_count": 24,
   "metadata": {
    "colab": {
     "base_uri": "https://localhost:8080/"
    },
    "id": "Hf99-f0mEYEM",
    "outputId": "93e41531-4192-4859-c3de-876ff2b13162"
   },
   "outputs": [
    {
     "name": "stdout",
     "output_type": "stream",
     "text": [
      "Saved baseline model to: /content/drive/MyDrive/models_10/vgg/vgg_purning/vgg_purning.h5\n"
     ]
    }
   ],
   "source": [
    "model = vgg\n",
    "p_file='/content/drive/MyDrive/models_10/vgg/vgg_purning/vgg_purning'\n",
    "\n",
    "# creating a directory in tmp folder using tempfile library with the extension .h5 to save the model \n",
    "keras_file = p_file+\".h5\"\n",
    "tf.keras.models.save_model(model, keras_file, include_optimizer=False)\n",
    "print('Saved baseline model to:', keras_file)\n",
    "\n",
    "prune_low_magnitude = tfmot.sparsity.keras.prune_low_magnitude\n",
    "# instantiating the parameters for pruning\n",
    "# Here the pruning starts by removing 50 percentage of weights and gradualy increase the percentage of weights to decrease upto 80 percentage\n",
    "pruning_params = {\n",
    "      'pruning_schedule': tfmot.sparsity.keras.PolynomialDecay(initial_sparsity=0.50,\n",
    "                                                               final_sparsity=0.80,\n",
    "                                                               begin_step=0,\n",
    "                                                               end_step=250)\n",
    "}\n",
    "# creating the model for pruning with the previously trained model and previousl defined pruning params\n",
    "\n",
    "vgg_for_pruning__ = prune_low_magnitude(model, **pruning_params)\n",
    "# Compiling the model \n",
    "\n",
    "vgg_for_pruning__.compile(optimizer='adam',\n",
    "              loss='categorical_crossentropy',\n",
    "              metrics=['accuracy'])\n",
    "\n",
    "\n",
    "\n"
   ]
  },
  {
   "cell_type": "code",
   "execution_count": 25,
   "metadata": {
    "colab": {
     "base_uri": "https://localhost:8080/"
    },
    "id": "7J0aBVQHEX_k",
    "outputId": "33e1b8ba-4be9-4ed8-9b72-f64621e3f8c2"
   },
   "outputs": [
    {
     "name": "stdout",
     "output_type": "stream",
     "text": [
      "Epoch 1/15\n",
      "253/253 [==============================] - 30s 49ms/step - loss: 2.6612 - accuracy: 0.4954 - val_loss: 2.4400 - val_accuracy: 0.1725\n",
      "Epoch 2/15\n",
      "253/253 [==============================] - 10s 41ms/step - loss: 2.1571 - accuracy: 0.2586 - val_loss: 1.9723 - val_accuracy: 0.3436\n",
      "Epoch 3/15\n",
      "253/253 [==============================] - 10s 41ms/step - loss: 1.9179 - accuracy: 0.3431 - val_loss: 1.8349 - val_accuracy: 0.3941\n",
      "Epoch 4/15\n",
      "253/253 [==============================] - 13s 50ms/step - loss: 1.7981 - accuracy: 0.3812 - val_loss: 1.7744 - val_accuracy: 0.4053\n",
      "Epoch 5/15\n",
      "253/253 [==============================] - 10s 41ms/step - loss: 1.6972 - accuracy: 0.4186 - val_loss: 1.7191 - val_accuracy: 0.4362\n",
      "Epoch 6/15\n",
      "253/253 [==============================] - 14s 55ms/step - loss: 1.6164 - accuracy: 0.4414 - val_loss: 1.6689 - val_accuracy: 0.4432\n",
      "Epoch 7/15\n",
      "253/253 [==============================] - 13s 52ms/step - loss: 1.5546 - accuracy: 0.4719 - val_loss: 1.5939 - val_accuracy: 0.4755\n",
      "Epoch 8/15\n",
      "253/253 [==============================] - 12s 47ms/step - loss: 1.4904 - accuracy: 0.4922 - val_loss: 1.6080 - val_accuracy: 0.4544\n",
      "Epoch 9/15\n",
      "253/253 [==============================] - 11s 45ms/step - loss: 1.4623 - accuracy: 0.4976 - val_loss: 1.5874 - val_accuracy: 0.4727\n",
      "Epoch 10/15\n",
      "253/253 [==============================] - 12s 48ms/step - loss: 1.4007 - accuracy: 0.5237 - val_loss: 1.5002 - val_accuracy: 0.4965\n",
      "Epoch 11/15\n",
      "253/253 [==============================] - 12s 46ms/step - loss: 1.3576 - accuracy: 0.5417 - val_loss: 1.5282 - val_accuracy: 0.5189\n",
      "Epoch 12/15\n",
      "253/253 [==============================] - 11s 42ms/step - loss: 1.3404 - accuracy: 0.5432 - val_loss: 1.5327 - val_accuracy: 0.4923\n",
      "Epoch 13/15\n",
      "253/253 [==============================] - 11s 44ms/step - loss: 1.3040 - accuracy: 0.5514 - val_loss: 1.4893 - val_accuracy: 0.5273\n",
      "Epoch 14/15\n",
      "253/253 [==============================] - 10s 41ms/step - loss: 1.2612 - accuracy: 0.5650 - val_loss: 1.4855 - val_accuracy: 0.5302\n",
      "Epoch 15/15\n",
      "253/253 [==============================] - 10s 41ms/step - loss: 1.2332 - accuracy: 0.5831 - val_loss: 1.4087 - val_accuracy: 0.5666\n"
     ]
    },
    {
     "data": {
      "text/plain": [
       "<keras.callbacks.History at 0x7f31207292d0>"
      ]
     },
     "execution_count": 25,
     "metadata": {},
     "output_type": "execute_result"
    }
   ],
   "source": [
    "\n",
    "logdir = '/content/drive/MyDrive/models_10/vgg/vgg_purning/'\n",
    "\n",
    "callbacks = [\n",
    "  tfmot.sparsity.keras.UpdatePruningStep(),\n",
    "  tfmot.sparsity.keras.PruningSummaries(log_dir=logdir),\n",
    "]\n",
    "\n",
    "# running the model with 2103 images\n",
    "vgg_for_pruning__.fit(train_x,\n",
    "                      train_y,\n",
    "                      validation_data=(test_x, test_y),\n",
    "                      epochs=15,\n",
    "                      callbacks=callbacks,\n",
    "                     batch_size=16\n",
    "                  )"
   ]
  },
  {
   "cell_type": "code",
   "execution_count": 28,
   "metadata": {
    "colab": {
     "base_uri": "https://localhost:8080/"
    },
    "id": "NQJzGKeuoH1-",
    "outputId": "dc411966-0901-411c-b2d9-cefb08358c07"
   },
   "outputs": [
    {
     "name": "stdout",
     "output_type": "stream",
     "text": [
      "Vgg Purning Dodel test accuracy: 56.66199326515198 %\n"
     ]
    }
   ],
   "source": [
    "_, purning_model_accuracy = vgg_for_pruning__.evaluate(\n",
    "    test_x, test_y, verbose=0)\n",
    "print('Vgg Purning Dodel test accuracy:', (purning_model_accuracy)*100, \"%\")"
   ]
  },
  {
   "cell_type": "markdown",
   "metadata": {
    "id": "huK_9V0_h_1u"
   },
   "source": [
    "##### File size of VGG16 Pruning"
   ]
  },
  {
   "cell_type": "code",
   "execution_count": 26,
   "metadata": {
    "colab": {
     "base_uri": "https://localhost:8080/"
    },
    "id": "klly27MREX8P",
    "outputId": "df3dc5da-ffd4-436d-ae6b-54151aacbf6f"
   },
   "outputs": [
    {
     "name": "stdout",
     "output_type": "stream",
     "text": [
      "Purning Model size is 61047295 Bytes\n"
     ]
    }
   ],
   "source": [
    "print(\"Purning Model size is \"+ str(get_dir_size('/content/drive/MyDrive/models_10/vgg/vgg_purning'))+ \" Bytes\")"
   ]
  },
  {
   "cell_type": "markdown",
   "metadata": {
    "id": "zpiYhpdqsoSb"
   },
   "source": [
    "### **Optimization of Tensorflow Models with TensorRT**"
   ]
  },
  {
   "cell_type": "code",
   "execution_count": null,
   "metadata": {
    "id": "3Y9olw2osoSb"
   },
   "outputs": [],
   "source": [
    "from tensorflow.python.compiler.tensorrt import trt_convert as trt"
   ]
  },
  {
   "cell_type": "markdown",
   "metadata": {
    "id": "9NsIfzaIsoSb"
   },
   "source": [
    "#### TF-TRT FP32 model "
   ]
  },
  {
   "cell_type": "code",
   "execution_count": null,
   "metadata": {
    "id": "O4UUb7oqsoSb"
   },
   "outputs": [],
   "source": [
    "converting_params_ = trt.DEFAULT_TRT_CONVERSION_PARAMS._replace(\n",
    "                                      precision_mode = trt.TrtPrecisionMode.FP32,\n",
    "                                      ) \n",
    "converter_ = trt.TrtGraphConverterV2(input_saved_model_dir = '/content/drive/MyDrive/models_10/vgg/vgg_model', \n",
    "                                    conversion_params= converting_params_)\n",
    "converter_.convert()\n",
    "converter_.save(output_saved_model_dir = '/content/drive/MyDrive/models_10/inception/vgg/FP32__vgg')"
   ]
  },
  {
   "cell_type": "code",
   "execution_count": null,
   "metadata": {
    "id": "VZcr6TERsoSc"
   },
   "outputs": [],
   "source": [
    "import tensorflow as tf\n",
    "import tensorflow_hub as hub\n",
    "fp32_vgg = tf.keras.Sequential([hub.KerasLayer(\"/content/drive/MyDrive/models_10/vgg/FP32__vgg\", trainable=True)\n",
    "    ])"
   ]
  },
  {
   "cell_type": "code",
   "execution_count": null,
   "metadata": {
    "id": "fvjn6uwQsoSc"
   },
   "outputs": [],
   "source": [
    "fp32_vgg.compile(optimizer='adam',loss='categorical_crossentropy',metrics=['accuracy'])"
   ]
  },
  {
   "cell_type": "code",
   "execution_count": null,
   "metadata": {
    "colab": {
     "base_uri": "https://localhost:8080/"
    },
    "id": "yzesZ5Jxv9eI",
    "outputId": "6a9595f3-6124-42a6-bbb5-af591f8dacea"
   },
   "outputs": [
    {
     "name": "stdout",
     "output_type": "stream",
     "text": [
      "TF-TRT FP32 of Vgg model Model test accuracy: 96.651553481642645 %\n"
     ]
    }
   ],
   "source": [
    "_, purning_model_accuracy = fp32_vgg.evaluate(\n",
    "    test_x, test_y, verbose=0)\n",
    "print('TF-TRT FP32 of Vgg model Model test accuracy:', (purning_model_accuracy)*100, \"%\")"
   ]
  },
  {
   "cell_type": "markdown",
   "metadata": {
    "id": "ZWjVMyF0soSc"
   },
   "source": [
    "#### TF-TRT FP16 model "
   ]
  },
  {
   "cell_type": "code",
   "execution_count": null,
   "metadata": {
    "id": "kCEenR27w1OV"
   },
   "outputs": [],
   "source": [
    "converting_params_ = trt.DEFAULT_TRT_CONVERSION_PARAMS._replace(\n",
    "                                      precision_mode = trt.TrtPrecisionMode.FP32,\n",
    "                                      ) \n",
    "converter_ = trt.TrtGraphConverterV2(input_saved_model_dir = '/content/drive/MyDrive/models_10/vgg/vgg_model', \n",
    "                                    conversion_params= converting_params_)\n",
    "converter_.convert()\n",
    "converter_.save(output_saved_model_dir = '/content/drive/MyDrive/models_10/vgg/FP16__vgg')"
   ]
  },
  {
   "cell_type": "code",
   "execution_count": null,
   "metadata": {
    "id": "PF7Vb5Rgw1OV"
   },
   "outputs": [],
   "source": [
    "import tensorflow as tf\n",
    "import tensorflow_hub as hub\n",
    "fp16_vgg = tf.keras.Sequential([hub.KerasLayer(\"/content/drive/MyDrive/models_10/vgg/FP16__vgg\", trainable=True)\n",
    "    ])"
   ]
  },
  {
   "cell_type": "code",
   "execution_count": null,
   "metadata": {
    "id": "y0cJLiKaw1OV"
   },
   "outputs": [],
   "source": [
    "fp16_vgg.compile(optimizer='adam',loss='categorical_crossentropy',metrics=['accuracy'])"
   ]
  },
  {
   "cell_type": "code",
   "execution_count": null,
   "metadata": {
    "colab": {
     "base_uri": "https://localhost:8080/"
    },
    "id": "KtRjW-QXt9VZ",
    "outputId": "2e43626c-ba6b-4e97-d1a2-9d87157160c4"
   },
   "outputs": [
    {
     "name": "stdout",
     "output_type": "stream",
     "text": [
      "TF-TRT FP16 of Vgg model Model test accuracy: 96.51345127489564 %\n"
     ]
    }
   ],
   "source": [
    "_, purning_model_accuracy = fp16_vgg.evaluate(\n",
    "    test_x, test_y, verbose=0)\n",
    "print('TF-TRT FP16 of Vgg model Model test accuracy:', (purning_model_accuracy)*100, \"%\")"
   ]
  },
  {
   "cell_type": "markdown",
   "metadata": {
    "id": "PObymSmEsoSc"
   },
   "source": [
    "#### TF-TRT FP8 model "
   ]
  },
  {
   "cell_type": "code",
   "execution_count": null,
   "metadata": {
    "id": "j7HU7feSyzMI"
   },
   "outputs": [],
   "source": [
    "converting_params_ = trt.DEFAULT_TRT_CONVERSION_PARAMS._replace(\n",
    "                                      precision_mode = trt.TrtPrecisionMode.FP32,\n",
    "                                      ) \n",
    "converter_ = trt.TrtGraphConverterV2(input_saved_model_dir = '/content/drive/MyDrive/models_10/vgg/vgg_model', \n",
    "                                    conversion_params= converting_params_)\n",
    "converter_.convert()\n",
    "converter_.save(output_saved_model_dir = '/content/drive/MyDrive/models_10/vgg/FP8__vgg')"
   ]
  },
  {
   "cell_type": "code",
   "execution_count": null,
   "metadata": {
    "id": "P-wePazryzMJ"
   },
   "outputs": [],
   "source": [
    "import tensorflow as tf\n",
    "import tensorflow_hub as hub\n",
    "fp32_vgg = tf.keras.Sequential([hub.KerasLayer(\"/content/drive/MyDrive/models_10/vgg/FP8__vgg\", trainable=True)\n",
    "    ])"
   ]
  },
  {
   "cell_type": "code",
   "execution_count": null,
   "metadata": {
    "id": "qhQoVhTKyzMJ"
   },
   "outputs": [],
   "source": [
    "fp8_vgg.compile(optimizer='adam',loss='categorical_crossentropy',metrics=['accuracy'])"
   ]
  },
  {
   "cell_type": "code",
   "execution_count": null,
   "metadata": {
    "colab": {
     "base_uri": "https://localhost:8080/"
    },
    "id": "Pa3TGCaNvWlt",
    "outputId": "5bd0678f-9623-4a53-88bf-289ec0721875"
   },
   "outputs": [
    {
     "name": "stdout",
     "output_type": "stream",
     "text": [
      "TF-TRT FP8 of Inception model Model test accuracy: 96.61425187645219 %\n"
     ]
    }
   ],
   "source": [
    "_, purning_model_accuracy = fp8_inception_.evaluate(\n",
    "    test_x, test_y, verbose=0)\n",
    "print('TF-TRT FP16 of Vgg model Model test accuracy:', (purning_model_accuracy)*100, \"%\")"
   ]
  },
  {
   "cell_type": "markdown",
   "metadata": {
    "id": "5gepS5ensoSd"
   },
   "source": [
    "### **OBSERVATIONS**"
   ]
  },
  {
   "cell_type": "markdown",
   "metadata": {
    "id": "ilRTaUJlsoSd"
   },
   "source": [
    "#### Models Accuracy"
   ]
  },
  {
   "cell_type": "code",
   "execution_count": null,
   "metadata": {
    "colab": {
     "base_uri": "https://localhost:8080/",
     "height": 612
    },
    "id": "zQeaXIexmBav",
    "outputId": "b74ebb8c-40c7-45ec-f351-c785f31d4714"
   },
   "outputs": [
    {
     "data": {
      "text/plain": [
       "<matplotlib.axes._subplots.AxesSubplot at 0x7f1cca39af10>"
      ]
     },
     "execution_count": 22,
     "metadata": {},
     "output_type": "execute_result"
    },
    {
     "data": {
      "image/png": "[encoded data removed]",
      "text/plain": [
       "<Figure size 1152x720 with 1 Axes>"
      ]
     },
     "metadata": {},
     "output_type": "display_data"
    }
   ],
   "source": [
    "plt.figure(figsize=(16, 10))\n",
    "labels = ['Base Model VGG16', 'VGG16 Tflite Model', 'VGG16 Purning Model', 'VGG16 TRT FP32', 'VGG16 TRT FP16', 'VGG16 TRT FP8']\n",
    "values = [80.64516186714172 ,78.12061711079944 , 56.66199326515198  ,96.651553481642645 ,96.51345127489564, 96.61425187645219]\n",
    "plt.xlabel('MODELS')\n",
    "plt.ylabel('ACCURACY')\n",
    "plt.gca().set_title(\"MODELS ACCURACY\")\n",
    "sns.barplot(x=labels, y=values)"
   ]
  },
  {
   "cell_type": "markdown",
   "metadata": {
    "id": "wYgBSWZMsoSd"
   },
   "source": [
    "#### Models Size"
   ]
  },
  {
   "cell_type": "code",
   "execution_count": null,
   "metadata": {
    "colab": {
     "base_uri": "https://localhost:8080/",
     "height": 643
    },
    "id": "Up92z5Q_mBav",
    "outputId": "ca3b2f38-d4ff-4912-b3ff-eb76b444f079"
   },
   "outputs": [
    {
     "data": {
      "text/plain": [
       "<matplotlib.axes._subplots.AxesSubplot at 0x7f1cc9e10110>"
      ]
     },
     "execution_count": 21,
     "metadata": {},
     "output_type": "execute_result"
    },
    {
     "data": {
      "image/png": "[encoded data removed]",
      "text/plain": [
       "<Figure size 1008x720 with 1 Axes>"
      ]
     },
     "metadata": {},
     "output_type": "display_data"
    }
   ],
   "source": [
    "plt.figure(figsize=(14, 10))\n",
    "labels = ['Base Model VGG16', 'VGG16 Tflite Model', 'VGG16 Purning Model']\n",
    "values = [62586159 , 15059376 ,61047295 ]\n",
    "plt.ylim([0,120000000])\n",
    "plt.xlabel('MODELS')\n",
    "plt.ylabel('SIZE(bytes)')\n",
    "plt.gca().set_title(\"MODELS SIZE\")\n",
    "sns.barplot(x=labels, y=values)"
   ]
  },
  {
   "cell_type": "markdown",
   "metadata": {
    "id": "oopctWypooM-"
   },
   "source": [
    "<br>\n",
    "<br>\n",
    "<br>\n",
    "<br>\n",
    "<br>\n",
    "<br><br>\n",
    "<br>\n",
    "<br>\n",
    "\n",
    "## **INCEPTION Model**\n"
   ]
  },
  {
   "cell_type": "markdown",
   "metadata": {
    "id": "7VYAKgt6ooM-"
   },
   "source": [
    "#### Before getting into optimization we need to preprocess the train dataset according to the model(INCEPTION)"
   ]
  },
  {
   "cell_type": "code",
   "execution_count": null,
   "metadata": {
    "id": "4dlKadUBooM-"
   },
   "outputs": [],
   "source": [
    "x_train_inception = (np.array(x_train))\n",
    "x_train_inception = tf.keras.applications.inception_v3.preprocess_input(x_train_inception)"
   ]
  },
  {
   "cell_type": "code",
   "execution_count": null,
   "metadata": {
    "id": "Id2uu3zxooM-"
   },
   "outputs": [],
   "source": [
    "train_x, test_x, train_y, test_y = train_test_split(x_train_inception, y_train, test_size = 0.15, stratify = y_train)"
   ]
  },
  {
   "cell_type": "markdown",
   "metadata": {
    "id": "TkKjqEH7ooM-"
   },
   "source": [
    "##### Test labels for calculating accuracy of the models."
   ]
  },
  {
   "cell_type": "code",
   "execution_count": null,
   "metadata": {
    "id": "lZfEgYLDooM_"
   },
   "outputs": [],
   "source": [
    "test_labels = []\n",
    "for i in test_y:\n",
    "  test_labels.append(np.argmax(i))"
   ]
  },
  {
   "cell_type": "code",
   "execution_count": null,
   "metadata": {
    "colab": {
     "base_uri": "https://localhost:8080/"
    },
    "id": "j96HUjzwb9zd",
    "outputId": "7becf0d4-1c9a-4786-dead-a6833e3b9635"
   },
   "outputs": [
    {
     "name": "stdout",
     "output_type": "stream",
     "text": [
      "Downloading data from https://storage.googleapis.com/tensorflow/keras-applications/inception_v3/inception_v3_weights_tf_dim_ordering_tf_kernels_notop.h5\n",
      "87910968/87910968 [==============================] - 3s 0us/step\n"
     ]
    }
   ],
   "source": [
    "inception_model = tf.keras.Sequential()\n",
    "\n",
    "pretrained_in_model= tf.keras.applications.InceptionV3(include_top=False,\n",
    "                   input_shape=(128,128,3),\n",
    "                   pooling='avg',classes=12,\n",
    "                   weights='imagenet')\n",
    "for layer in pretrained_in_model.layers:\n",
    "        layer.trainable=False\n",
    "\n",
    "inception_model.add(pretrained_in_model)"
   ]
  },
  {
   "cell_type": "code",
   "execution_count": null,
   "metadata": {
    "id": "0kQKdsgqcEjx"
   },
   "outputs": [],
   "source": [
    "inception_model.add(Flatten())\n",
    "inception_model.add(Dense(512, activation='relu'))\n",
    "inception_model.add(Dense(12, activation='softmax'))"
   ]
  },
  {
   "cell_type": "markdown",
   "metadata": {
    "id": "kfuf5WEWooM_"
   },
   "source": [
    "##### Now we need to train the model with batch size 16 "
   ]
  },
  {
   "cell_type": "code",
   "execution_count": null,
   "metadata": {
    "id": "-PqqWbTKooM_"
   },
   "outputs": [],
   "source": [
    "inception_model.compile(optimizer='adam',loss='categorical_crossentropy',metrics=['accuracy'])"
   ]
  },
  {
   "cell_type": "code",
   "execution_count": null,
   "metadata": {
    "colab": {
     "base_uri": "https://localhost:8080/"
    },
    "id": "hLzb4D8YooM_",
    "outputId": "04a6e75b-e4e8-42ba-c38f-a8d27e29baca"
   },
   "outputs": [
    {
     "name": "stdout",
     "output_type": "stream",
     "text": [
      "Epoch 1/15\n",
      "253/253 [==============================] - 22s 41ms/step - loss: 1.7503 - accuracy: 0.4840 - val_loss: 1.3416 - val_accuracy: 0.5778\n",
      "Epoch 2/15\n",
      "253/253 [==============================] - 6s 23ms/step - loss: 1.0332 - accuracy: 0.6522 - val_loss: 1.3109 - val_accuracy: 0.5764\n",
      "Epoch 3/15\n",
      "253/253 [==============================] - 6s 23ms/step - loss: 0.7805 - accuracy: 0.7273 - val_loss: 1.4767 - val_accuracy: 0.5736\n",
      "Epoch 4/15\n",
      "253/253 [==============================] - 6s 23ms/step - loss: 0.6126 - accuracy: 0.7885 - val_loss: 1.3188 - val_accuracy: 0.6101\n",
      "Epoch 5/15\n",
      "253/253 [==============================] - 6s 23ms/step - loss: 0.4589 - accuracy: 0.8410 - val_loss: 1.5133 - val_accuracy: 0.6171\n",
      "Epoch 6/15\n",
      "253/253 [==============================] - 6s 24ms/step - loss: 0.4114 - accuracy: 0.8519 - val_loss: 1.4009 - val_accuracy: 0.6045\n",
      "Epoch 7/15\n",
      "253/253 [==============================] - 6s 25ms/step - loss: 0.3225 - accuracy: 0.8895 - val_loss: 1.3853 - val_accuracy: 0.6410\n",
      "Epoch 8/15\n",
      "253/253 [==============================] - 6s 26ms/step - loss: 0.2414 - accuracy: 0.9195 - val_loss: 1.5370 - val_accuracy: 0.6396\n",
      "Epoch 9/15\n",
      "253/253 [==============================] - 7s 26ms/step - loss: 0.1947 - accuracy: 0.9386 - val_loss: 1.4404 - val_accuracy: 0.6353\n",
      "Epoch 10/15\n",
      "253/253 [==============================] - 8s 30ms/step - loss: 0.1701 - accuracy: 0.9455 - val_loss: 1.6065 - val_accuracy: 0.6003\n",
      "Epoch 11/15\n",
      "253/253 [==============================] - 7s 27ms/step - loss: 0.1485 - accuracy: 0.9557 - val_loss: 1.8251 - val_accuracy: 0.6171\n",
      "Epoch 12/15\n",
      "253/253 [==============================] - 6s 25ms/step - loss: 0.1433 - accuracy: 0.9507 - val_loss: 2.0554 - val_accuracy: 0.5708\n",
      "Epoch 13/15\n",
      "253/253 [==============================] - 7s 29ms/step - loss: 0.2333 - accuracy: 0.9220 - val_loss: 1.9645 - val_accuracy: 0.6045\n",
      "Epoch 14/15\n",
      "253/253 [==============================] - 6s 24ms/step - loss: 0.1730 - accuracy: 0.9440 - val_loss: 1.7663 - val_accuracy: 0.6381\n",
      "Epoch 15/15\n",
      "253/253 [==============================] - 6s 26ms/step - loss: 0.0859 - accuracy: 0.9690 - val_loss: 1.8117 - val_accuracy: 0.6325\n"
     ]
    }
   ],
   "source": [
    "inception_history = inception_model.fit(train_x, train_y,epochs=15,validation_data=(test_x,test_y), batch_size=16)"
   ]
  },
  {
   "cell_type": "markdown",
   "metadata": {
    "id": "CB0vkaShooM_"
   },
   "source": [
    "##### Original model Test Accuracy"
   ]
  },
  {
   "cell_type": "code",
   "execution_count": null,
   "metadata": {
    "colab": {
     "base_uri": "https://localhost:8080/"
    },
    "id": "1n9o-2ykooM_",
    "outputId": "06c1de85-144f-4951-ca1b-6a75be72cc6b"
   },
   "outputs": [
    {
     "name": "stdout",
     "output_type": "stream",
     "text": [
      "Inception Baseline Dodel test accuracy: 63.25385570526123 %\n"
     ]
    }
   ],
   "source": [
    "_, baseline_model_accuracy = inception_model.evaluate(\n",
    "    test_x, test_y, verbose=0)\n",
    "print('Inception Baseline Dodel test accuracy:', (baseline_model_accuracy)*100, \"%\")"
   ]
  },
  {
   "cell_type": "code",
   "execution_count": null,
   "metadata": {
    "colab": {
     "base_uri": "https://localhost:8080/"
    },
    "id": "N0QR56sx9nup",
    "outputId": "4b6ee64f-6476-492c-fa46-e7813e6679b9"
   },
   "outputs": [
    {
     "name": "stderr",
     "output_type": "stream",
     "text": [
      "WARNING:absl:Found untraced functions such as _jit_compiled_convolution_op, _jit_compiled_convolution_op, _jit_compiled_convolution_op, _jit_compiled_convolution_op, _jit_compiled_convolution_op while saving (showing 5 of 94). These functions will not be directly callable after loading.\n"
     ]
    }
   ],
   "source": [
    "tf.keras.models.save_model(\n",
    "    inception_model,\n",
    "    '/content/drive/MyDrive/models_10/inception/inception_model',\n",
    "    overwrite=True,\n",
    "    include_optimizer=True\n",
    ")"
   ]
  },
  {
   "cell_type": "markdown",
   "metadata": {
    "id": "gDTQMRO0qQv9"
   },
   "source": [
    "##### Original Inception Model size"
   ]
  },
  {
   "cell_type": "code",
   "execution_count": null,
   "metadata": {
    "colab": {
     "base_uri": "https://localhost:8080/"
    },
    "id": "AmPK7i5VooM_",
    "outputId": "f0c22e12-5bd7-4c61-8188-d4d127cbe364"
   },
   "outputs": [
    {
     "name": "stdout",
     "output_type": "stream",
     "text": [
      "Model size is 106753911 Bytes\n"
     ]
    }
   ],
   "source": [
    "def get_dir_size(path='.'):\n",
    "    total = 0\n",
    "    with os.scandir(path) as it:\n",
    "        for entry in it:\n",
    "            if entry.is_file():\n",
    "                total += entry.stat().st_size\n",
    "            elif entry.is_dir():\n",
    "                total += get_dir_size(entry.path)\n",
    "    return total\n",
    "print(\"Model size is \"+ str(get_dir_size('/content/drive/MyDrive/models_10/inception/inception_model'))+ \" Bytes\")\n"
   ]
  },
  {
   "cell_type": "markdown",
   "metadata": {
    "id": "oyJWaSrpooM_"
   },
   "source": [
    "### **Model Optimization Using Tensorflow**"
   ]
  },
  {
   "cell_type": "markdown",
   "metadata": {
    "id": "wEy5GIQ9ooM_"
   },
   "source": [
    "#### **Inception Tflite Conversion (Post Training Dynamic range quantization)**"
   ]
  },
  {
   "cell_type": "code",
   "execution_count": null,
   "metadata": {
    "colab": {
     "base_uri": "https://localhost:8080/"
    },
    "id": "nDlWxyH2ooNA",
    "outputId": "5bbb2065-371e-499b-9757-588b00411771"
   },
   "outputs": [
    {
     "name": "stderr",
     "output_type": "stream",
     "text": [
      "WARNING:absl:Found untraced functions such as _jit_compiled_convolution_op, _jit_compiled_convolution_op, _jit_compiled_convolution_op, _jit_compiled_convolution_op, _jit_compiled_convolution_op while saving (showing 5 of 94). These functions will not be directly callable after loading.\n"
     ]
    }
   ],
   "source": [
    "# converting the model into tensorflow lite\n",
    "\n",
    "converter = tf.lite.TFLiteConverter.from_keras_model(inception_model)\n",
    "converter.optimizations = [tf.lite.Optimize.DEFAULT]\n",
    "tflite_model = converter.convert()\n",
    "# Here we are saving the converted model in a file model.tflite\n",
    "with open('/content/drive/MyDrive/models_10/inception/inception.tflite','wb') as f:\n",
    "  f.write(tflite_model)"
   ]
  },
  {
   "cell_type": "markdown",
   "metadata": {
    "id": "e5EDvePcooNA"
   },
   "source": [
    "##### Calculating the converted model accuracy"
   ]
  },
  {
   "cell_type": "code",
   "execution_count": null,
   "metadata": {
    "colab": {
     "base_uri": "https://localhost:8080/"
    },
    "id": "x1qC0LFgooNA",
    "outputId": "40405af3-4c53-45fc-c0b6-faf20b29e691"
   },
   "outputs": [
    {
     "name": "stdout",
     "output_type": "stream",
     "text": [
      "Evaluated on 0 results so far.\n",
      "Evaluated on 100 results so far.\n",
      "Evaluated on 200 results so far.\n",
      "Evaluated on 300 results so far.\n",
      "Evaluated on 400 results so far.\n",
      "Evaluated on 500 results so far.\n",
      "Evaluated on 600 results so far.\n",
      "Evaluated on 700 results so far.\n",
      "\n",
      "\n",
      "Inception tflite model test accuracy 63.11360448807854 %\n"
     ]
    }
   ],
   "source": [
    "# Here we are loading the converted model\n",
    "\n",
    "interpreter = tf.lite.Interpreter('/content/drive/MyDrive/models_10/inception/inception.tflite')\n",
    "# Here we are allocating the tensors to the converted model \n",
    "interpreter.allocate_tensors()\n",
    "test_accuracy = evaluate(interpreter, test_x)\n",
    "print('Inception tflite model test accuracy '+ str(test_accuracy*100)+\" %\")"
   ]
  },
  {
   "cell_type": "markdown",
   "metadata": {
    "id": "wv3UtD1RooNA"
   },
   "source": [
    "##### File size of Inception tflite"
   ]
  },
  {
   "cell_type": "code",
   "execution_count": null,
   "metadata": {
    "colab": {
     "base_uri": "https://localhost:8080/"
    },
    "id": "-YLwdYwEooNA",
    "outputId": "a8990d59-d1f3-4369-d337-fd5c47c4f32e"
   },
   "outputs": [
    {
     "name": "stdout",
     "output_type": "stream",
     "text": [
      "File Size of Inception tflite is : 23148672 bytes\n"
     ]
    }
   ],
   "source": [
    "import os\n",
    "file_size = os.path.getsize('/content/drive/MyDrive/models_10/inception/inception.tflite')\n",
    "print(\"File Size of Inception tflite is :\", file_size, \"bytes\")"
   ]
  },
  {
   "cell_type": "markdown",
   "metadata": {
    "id": "1nV3S27KooNA"
   },
   "source": [
    "#### **Inception Model optimizing using pruning**"
   ]
  },
  {
   "cell_type": "code",
   "execution_count": null,
   "metadata": {
    "colab": {
     "base_uri": "https://localhost:8080/"
    },
    "id": "thjY6eAGooNA",
    "outputId": "7407921e-dc22-437f-cc27-adbb1938ec83"
   },
   "outputs": [
    {
     "name": "stdout",
     "output_type": "stream",
     "text": [
      "Saved baseline model to: /content/drive/MyDrive/models_10/inception/inception_purning/inception_purning.h5\n"
     ]
    }
   ],
   "source": [
    "model = inception_model\n",
    "p_file='/content/drive/MyDrive/models_10/inception/inception_purning/inception_purning'\n",
    "\n",
    "# creating a directory in tmp folder using tempfile library with the extension .h5 to save the model \n",
    "keras_file = p_file+\".h5\"\n",
    "tf.keras.models.save_model(model, keras_file, include_optimizer=False)\n",
    "print('Saved baseline model to:', keras_file)\n",
    "\n",
    "prune_low_magnitude = tfmot.sparsity.keras.prune_low_magnitude\n",
    "# instantiating the parameters for pruning\n",
    "# Here the pruning starts by removing 50 percentage of weights and gradualy increase the percentage of weights to decrease upto 80 percentage\n",
    "pruning_params = {\n",
    "      'pruning_schedule': tfmot.sparsity.keras.PolynomialDecay(initial_sparsity=0.50,\n",
    "                                                               final_sparsity=0.80,\n",
    "                                                               begin_step=0,\n",
    "                                                               end_step=250)\n",
    "}\n",
    "# creating the model for pruning with the previously trained model and previousl defined pruning params\n",
    "\n",
    "inception_for_pruning__ = prune_low_magnitude(model, **pruning_params)\n",
    "# Compiling the model \n",
    "\n",
    "inception_for_pruning__.compile(optimizer='adam',\n",
    "              loss='categorical_crossentropy',\n",
    "              metrics=['accuracy'])\n",
    "\n",
    "\n",
    "\n"
   ]
  },
  {
   "cell_type": "code",
   "execution_count": null,
   "metadata": {
    "colab": {
     "base_uri": "https://localhost:8080/"
    },
    "id": "t77VHUJ2ooNA",
    "outputId": "9010f78e-e3e2-461b-85e0-8bd2fc7c2d20"
   },
   "outputs": [
    {
     "name": "stdout",
     "output_type": "stream",
     "text": [
      "Epoch 1/15\n",
      "  6/253 [..............................] - ETA: 26s - loss: 0.2465 - accuracy: 0.9167"
     ]
    },
    {
     "name": "stderr",
     "output_type": "stream",
     "text": [
      "WARNING:tensorflow:Callback method `on_train_batch_end` is slow compared to the batch time (batch time: 0.1006s vs `on_train_batch_end` time: 0.2818s). Check your callbacks.\n"
     ]
    },
    {
     "name": "stdout",
     "output_type": "stream",
     "text": [
      "253/253 [==============================] - 105s 125ms/step - loss: 1.8370 - accuracy: 0.4558 - val_loss: 2.5101 - val_accuracy: 0.1052\n",
      "Epoch 2/15\n",
      "253/253 [==============================] - 33s 132ms/step - loss: 2.4190 - accuracy: 0.1610 - val_loss: 2.3658 - val_accuracy: 0.2020\n",
      "Epoch 3/15\n",
      "253/253 [==============================] - 28s 112ms/step - loss: 2.3642 - accuracy: 0.1883 - val_loss: 2.3389 - val_accuracy: 0.2132\n",
      "Epoch 4/15\n",
      "253/253 [==============================] - 29s 113ms/step - loss: 2.3307 - accuracy: 0.1954 - val_loss: 2.3107 - val_accuracy: 0.2216\n",
      "Epoch 5/15\n",
      "253/253 [==============================] - 30s 119ms/step - loss: 2.3035 - accuracy: 0.2222 - val_loss: 2.3390 - val_accuracy: 0.1655\n",
      "Epoch 6/15\n",
      "253/253 [==============================] - 28s 112ms/step - loss: 2.2948 - accuracy: 0.2205 - val_loss: 2.2970 - val_accuracy: 0.2062\n",
      "Epoch 7/15\n",
      "253/253 [==============================] - 29s 116ms/step - loss: 2.2832 - accuracy: 0.2267 - val_loss: 2.2913 - val_accuracy: 0.2314\n",
      "Epoch 8/15\n",
      "253/253 [==============================] - 29s 113ms/step - loss: 2.2518 - accuracy: 0.2408 - val_loss: 2.2378 - val_accuracy: 0.2496\n",
      "Epoch 9/15\n",
      "253/253 [==============================] - 28s 112ms/step - loss: 2.2381 - accuracy: 0.2497 - val_loss: 2.2681 - val_accuracy: 0.2412\n",
      "Epoch 10/15\n",
      "253/253 [==============================] - 28s 112ms/step - loss: 2.2230 - accuracy: 0.2556 - val_loss: 2.2175 - val_accuracy: 0.2468\n",
      "Epoch 11/15\n",
      "253/253 [==============================] - 28s 112ms/step - loss: 2.2165 - accuracy: 0.2561 - val_loss: 2.2212 - val_accuracy: 0.2398\n",
      "Epoch 12/15\n",
      "253/253 [==============================] - 28s 111ms/step - loss: 2.2086 - accuracy: 0.2613 - val_loss: 2.2001 - val_accuracy: 0.2707\n",
      "Epoch 13/15\n",
      "253/253 [==============================] - 28s 112ms/step - loss: 2.2081 - accuracy: 0.2534 - val_loss: 2.2808 - val_accuracy: 0.2188\n",
      "Epoch 14/15\n",
      "253/253 [==============================] - 28s 112ms/step - loss: 2.1786 - accuracy: 0.2710 - val_loss: 2.1963 - val_accuracy: 0.2791\n",
      "Epoch 15/15\n",
      "253/253 [==============================] - 29s 114ms/step - loss: 2.1788 - accuracy: 0.2712 - val_loss: 2.1769 - val_accuracy: 0.2777\n"
     ]
    },
    {
     "data": {
      "text/plain": [
       "<keras.callbacks.History at 0x7f2f7f2f06d0>"
      ]
     },
     "execution_count": 38,
     "metadata": {},
     "output_type": "execute_result"
    }
   ],
   "source": [
    "logdir = '/content/drive/MyDrive/models_10/inception/inception_purning/'\n",
    "\n",
    "callbacks = [\n",
    "  tfmot.sparsity.keras.UpdatePruningStep(),\n",
    "  tfmot.sparsity.keras.PruningSummaries(log_dir=logdir),\n",
    "]\n",
    "\n",
    "# running the model \n",
    "inception_for_pruning__.fit(train_x,\n",
    "                      train_y,\n",
    "                      validation_data=(test_x, test_y),\n",
    "                      epochs=15,\n",
    "                      callbacks=callbacks,\n",
    "                     batch_size=16\n",
    "                  )"
   ]
  },
  {
   "cell_type": "code",
   "execution_count": null,
   "metadata": {
    "id": "arFAmKWBAepd"
   },
   "outputs": [],
   "source": [
    "inception_for_pruning__.fit(train_x,\n",
    "                      train_y,\n",
    "                      validation_data=(test_x, test_y),\n",
    "                      epochs=15,\n",
    "                      callbacks=callbacks,\n",
    "                     batch_size=16\n",
    "                  )"
   ]
  },
  {
   "cell_type": "code",
   "execution_count": null,
   "metadata": {
    "colab": {
     "base_uri": "https://localhost:8080/"
    },
    "id": "26XGZEklooNB",
    "outputId": "005485bb-e217-4780-d5b5-a1069f08b221"
   },
   "outputs": [
    {
     "name": "stdout",
     "output_type": "stream",
     "text": [
      "Inception Purning Dodel test accuracy: 27.769985795021057 %\n"
     ]
    }
   ],
   "source": [
    "_, purning_model_accuracy = inception_for_pruning__.evaluate(\n",
    "    test_x, test_y, verbose=0)\n",
    "print('Inception Purning Dodel test accuracy:', (purning_model_accuracy)*100, \"%\")"
   ]
  },
  {
   "cell_type": "markdown",
   "metadata": {
    "id": "3qxeo07XooNB"
   },
   "source": [
    "##### File size of Inception Pruning"
   ]
  },
  {
   "cell_type": "code",
   "execution_count": null,
   "metadata": {
    "colab": {
     "base_uri": "https://localhost:8080/"
    },
    "id": "jEC9eAE_ooNB",
    "outputId": "7d56eee8-ac74-4913-b618-6210c30a1c25"
   },
   "outputs": [
    {
     "name": "stdout",
     "output_type": "stream",
     "text": [
      "Purning Model size is 104264705 Bytes\n"
     ]
    }
   ],
   "source": [
    "print(\"Purning Model size is \"+ str(get_dir_size('/content/drive/MyDrive/models_10/inception/inception_purning'))+ \" Bytes\")"
   ]
  },
  {
   "cell_type": "markdown",
   "metadata": {
    "id": "CHcEd83iooNB"
   },
   "source": [
    "### **Optimization of Tensorflow Models with TensorRT**"
   ]
  },
  {
   "cell_type": "code",
   "execution_count": null,
   "metadata": {
    "id": "did3gUMyooNB"
   },
   "outputs": [],
   "source": [
    "from tensorflow.python.compiler.tensorrt import trt_convert as trt"
   ]
  },
  {
   "cell_type": "markdown",
   "metadata": {
    "id": "sQfRO0H0eEty"
   },
   "source": [
    "#### TF-TRT FP32 model "
   ]
  },
  {
   "cell_type": "code",
   "execution_count": null,
   "metadata": {
    "id": "BJqsz37keEtz"
   },
   "outputs": [],
   "source": [
    "converting_params_ = trt.DEFAULT_TRT_CONVERSION_PARAMS._replace(\n",
    "                                      precision_mode = trt.TrtPrecisionMode.FP32,\n",
    "                                      ) \n",
    "converter_ = trt.TrtGraphConverterV2(input_saved_model_dir = '/content/drive/MyDrive/models_10/inception/inception_model', \n",
    "                                    conversion_params= converting_params_)\n",
    "converter_.convert()\n",
    "converter_.save(output_saved_model_dir = '/content/drive/MyDrive/models_10/inception/FP32__inception')"
   ]
  },
  {
   "cell_type": "code",
   "execution_count": null,
   "metadata": {
    "id": "r6WcN85ceEtz"
   },
   "outputs": [],
   "source": [
    "import tensorflow as tf\n",
    "import tensorflow_hub as hub\n",
    "fp32_inception = tf.keras.Sequential([hub.KerasLayer(\"/content/drive/MyDrive/models_10/inception/FP32__inception\", trainable=True)\n",
    "    ])"
   ]
  },
  {
   "cell_type": "code",
   "execution_count": null,
   "metadata": {
    "id": "sjtPkobSeEtz"
   },
   "outputs": [],
   "source": [
    "fp32_inception.compile(optimizer='adam',loss='categorical_crossentropy',metrics=['accuracy'])"
   ]
  },
  {
   "cell_type": "code",
   "execution_count": null,
   "metadata": {
    "colab": {
     "base_uri": "https://localhost:8080/"
    },
    "id": "srAPylX0k9c2",
    "outputId": "7a2f4cc6-fa25-4868-fa71-bc1324dd1a7e"
   },
   "outputs": [
    {
     "name": "stdout",
     "output_type": "stream",
     "text": [
      "TF-TRT FP32 of Inception model Model test accuracy: 94.74729275817871 %\n"
     ]
    }
   ],
   "source": [
    "_, purning_model_accuracy = fp32_inception.evaluate(\n",
    "    test_x, test_y, verbose=0)\n",
    "print('TF-TRT FP32 of Inception model Model test accuracy:', (purning_model_accuracy)*100, \"%\")"
   ]
  },
  {
   "cell_type": "markdown",
   "metadata": {
    "id": "U-QIzh_veEtz"
   },
   "source": [
    "#### TF-TRT FP16 model "
   ]
  },
  {
   "cell_type": "code",
   "execution_count": null,
   "metadata": {
    "id": "YGKH7WmueEtz"
   },
   "outputs": [],
   "source": [
    "converting_params__ = trt.DEFAULT_TRT_CONVERSION_PARAMS._replace(\n",
    "                                      precision_mode = trt.TrtPrecisionMode.FP16,\n",
    "                                      ) \n",
    "converter_ = trt.TrtGraphConverterV2(input_saved_model_dir = '/content/drive/MyDrive/models_10/inception/inception_model', \n",
    "                                    conversion_params= converting_params__)\n",
    "converter_.convert()\n",
    "converter_.save(output_saved_model_dir = '/content/drive/MyDrive/models_10/resnet/FP16__inception')"
   ]
  },
  {
   "cell_type": "code",
   "execution_count": null,
   "metadata": {
    "id": "4MDobdqKeEt0"
   },
   "outputs": [],
   "source": [
    "import tensorflow as tf\n",
    "import tensorflow_hub as hub\n",
    "fp16_inception_ = tf.keras.Sequential([hub.KerasLayer(\"/content/drive/MyDrive/models_10/resnet/FP16__inception\", trainable=True)\n",
    "    ])"
   ]
  },
  {
   "cell_type": "code",
   "execution_count": null,
   "metadata": {
    "id": "3Kfr4X2eeEt0"
   },
   "outputs": [],
   "source": [
    "fp16_inception_.compile(optimizer='adam',loss='categorical_crossentropy',metrics=['accuracy'])"
   ]
  },
  {
   "cell_type": "code",
   "execution_count": null,
   "metadata": {
    "colab": {
     "base_uri": "https://localhost:8080/"
    },
    "id": "s3aE6jhSnpVj",
    "outputId": "0c84b6a7-aeae-4281-f07e-f8c2cb6b9da7"
   },
   "outputs": [
    {
     "name": "stdout",
     "output_type": "stream",
     "text": [
      "TF-TRT FP16 of Inception model Model test accuracy: 94.12456245196345 %\n"
     ]
    }
   ],
   "source": [
    "_, purning_model_accuracy = fp16_inception_.evaluate(\n",
    "    test_x, test_y, verbose=0)\n",
    "print('TF-TRT FP16 of Inception model Model test accuracy:', (purning_model_accuracy)*100, \"%\")"
   ]
  },
  {
   "cell_type": "markdown",
   "metadata": {
    "id": "ZX-0RqjLeEt0"
   },
   "source": [
    "#### TF-TRT FP8 model "
   ]
  },
  {
   "cell_type": "code",
   "execution_count": null,
   "metadata": {
    "id": "Z4ox4Y7ioHLt"
   },
   "outputs": [],
   "source": [
    "converting_params__ = trt.DEFAULT_TRT_CONVERSION_PARAMS._replace(\n",
    "                                      precision_mode = trt.TrtPrecisionMode.FP8,\n",
    "                                      ) \n",
    "converter_ = trt.TrtGraphConverterV2(input_saved_model_dir = '/content/drive/MyDrive/models_10/inception/inception_model', \n",
    "                                    conversion_params= converting_params__)\n",
    "converter_.convert()\n",
    "converter_.save(output_saved_model_dir = '/content/drive/MyDrive/models_10/resnet/FP8__inception')"
   ]
  },
  {
   "cell_type": "code",
   "execution_count": null,
   "metadata": {
    "id": "ZuUeqdo-oHLt"
   },
   "outputs": [],
   "source": [
    "import tensorflow as tf\n",
    "import tensorflow_hub as hub\n",
    "fp8_inception_ = tf.keras.Sequential([hub.KerasLayer(\"/content/drive/MyDrive/models_10/resnet/FP8__inception\", trainable=True)\n",
    "    ])"
   ]
  },
  {
   "cell_type": "code",
   "execution_count": null,
   "metadata": {
    "id": "m3F88ET8oHLu"
   },
   "outputs": [],
   "source": [
    "fp8_inception_.compile(optimizer='adam',loss='categorical_crossentropy',metrics=['accuracy'])"
   ]
  },
  {
   "cell_type": "code",
   "execution_count": null,
   "metadata": {
    "colab": {
     "base_uri": "https://localhost:8080/"
    },
    "id": "5oiLS21V0DU5",
    "outputId": "6dbc38a6-11d6-4800-b08b-5f115610448b"
   },
   "outputs": [
    {
     "name": "stdout",
     "output_type": "stream",
     "text": [
      "TF-TRT FP16 of Inception model Model test accuracy: 93.6248517395428 %\n"
     ]
    }
   ],
   "source": [
    "_, purning_model_accuracy = fp8_inception_.evaluate(\n",
    "    test_x, test_y, verbose=0)\n",
    "print('TF-TRT FP16 of Inception model Model test accuracy:', (purning_model_accuracy)*100, \"%\")"
   ]
  },
  {
   "cell_type": "markdown",
   "metadata": {
    "id": "XjGvtAqoqvfS"
   },
   "source": [
    "### **OBSERVATIONS**"
   ]
  },
  {
   "cell_type": "markdown",
   "metadata": {
    "id": "7w1petrpqvfS"
   },
   "source": [
    "#### Models Accuracy"
   ]
  },
  {
   "cell_type": "code",
   "execution_count": null,
   "metadata": {
    "colab": {
     "base_uri": "https://localhost:8080/",
     "height": 617
    },
    "id": "8v_N2vWBmBVC",
    "outputId": "85c60ec2-451c-47dd-b561-c7167d0d67a4"
   },
   "outputs": [
    {
     "data": {
      "text/plain": [
       "<matplotlib.axes._subplots.AxesSubplot at 0x7f1cc9e76110>"
      ]
     },
     "execution_count": 19,
     "metadata": {},
     "output_type": "execute_result"
    },
    {
     "data": {
      "image/png": "[encoded data removed]",
      "text/plain": [
       "<Figure size 1152x720 with 1 Axes>"
      ]
     },
     "metadata": {},
     "output_type": "display_data"
    }
   ],
   "source": [
    "\n",
    "plt.figure(figsize=(16, 10))\n",
    "labels = ['Base Model Inception', 'Inception Tflite Model', 'Inception Purning Model', 'Inception TRT FP32', 'Inception TRT FP16', 'Inception TRT FP8']\n",
    "values = [63.25385570526123, 63.11360448807854,27.769985795021057 ,94.74729275817871 , 94.12456245196345 ,93.6248517395428 ]\n",
    "plt.xlabel('MODELS')\n",
    "plt.ylabel('ACCURACY')\n",
    "plt.gca().set_title(\"MODELS ACCURACY\")\n",
    "sns.barplot(x=labels, y=values)"
   ]
  },
  {
   "cell_type": "markdown",
   "metadata": {
    "id": "kh3A8TdzqvfS"
   },
   "source": [
    "#### Models Size"
   ]
  },
  {
   "cell_type": "code",
   "execution_count": null,
   "metadata": {
    "colab": {
     "base_uri": "https://localhost:8080/",
     "height": 643
    },
    "id": "IAoJtiAtmBVD",
    "outputId": "ea7380b0-bf8b-4606-b439-e52d09625664"
   },
   "outputs": [
    {
     "data": {
      "text/plain": [
       "<matplotlib.axes._subplots.AxesSubplot at 0x7f1cca0b0dd0>"
      ]
     },
     "execution_count": 18,
     "metadata": {},
     "output_type": "execute_result"
    },
    {
     "data": {
      "image/png": "[encoded data removed]",
      "text/plain": [
       "<Figure size 1008x720 with 1 Axes>"
      ]
     },
     "metadata": {},
     "output_type": "display_data"
    }
   ],
   "source": [
    "plt.style.use('ggplot')\n",
    "plt.figure(figsize=(14, 10))\n",
    "labels = ['Base Model Inception', 'Inception Tflite Model', 'Inception Purning Model']\n",
    "values = [106753911 , 23148672  ,111052736 ]\n",
    "plt.ylim([0,120000000])\n",
    "plt.xlabel('MODELS')\n",
    "plt.ylabel('SIZE(bytes)')\n",
    "plt.gca().set_title(\"MODELS SIZE\")\n",
    "sns.barplot(x=labels, y=values)"
   ]
  },
  {
   "cell_type": "markdown",
   "metadata": {
    "id": "DscP9D4RCnrr"
   },
   "source": [
    "<br>\n",
    "<br>\n",
    "<br>\n",
    "<br>\n",
    "<br>\n",
    "<br><br>\n",
    "<br>\n",
    "<br>\n",
    "\n",
    "## **RESNET50 Model**\n"
   ]
  },
  {
   "cell_type": "markdown",
   "metadata": {
    "id": "8ZObWcZ7Cnrr"
   },
   "source": [
    "#### Before getting into optimization we need to preprocess the train dataset according to the model(RESNET50)"
   ]
  },
  {
   "cell_type": "code",
   "execution_count": null,
   "metadata": {
    "id": "V9MGQgnZCnrr"
   },
   "outputs": [],
   "source": [
    "x_train_resnet = (np.array(x_train))\n",
    "x_train_resnet = tf.keras.applications.resnet50.preprocess_input(x_train_resnet)"
   ]
  },
  {
   "cell_type": "code",
   "execution_count": null,
   "metadata": {
    "id": "A-KO2rcNCnrr"
   },
   "outputs": [],
   "source": [
    "train_x, test_x, train_y, test_y = train_test_split(x_train_resnet, y_train, test_size = 0.15, stratify = y_train)"
   ]
  },
  {
   "cell_type": "markdown",
   "metadata": {
    "id": "rpTiw1hQCnrs"
   },
   "source": [
    "##### Test labels for calculating accuracy of the models."
   ]
  },
  {
   "cell_type": "code",
   "execution_count": null,
   "metadata": {
    "id": "SGwsAA00Cnrs"
   },
   "outputs": [],
   "source": [
    "test_labels = []\n",
    "for i in test_y:\n",
    "  test_labels.append(np.argmax(i))"
   ]
  },
  {
   "cell_type": "code",
   "execution_count": null,
   "metadata": {
    "id": "tdZO1pHJCnrs"
   },
   "outputs": [],
   "source": [
    "resnet_model = tf.keras.Sequential()\n",
    "\n",
    "pretrained_model= tf.keras.applications.ResNet50(include_top=False,\n",
    "                   input_shape=(128,128,3),\n",
    "                   pooling='avg',\n",
    "                   classes=12,\n",
    "                  weights='imagenet'\n",
    "                  )\n",
    "for layer in pretrained_model.layers:\n",
    "        layer.trainable=False\n",
    "\n",
    "resnet_model.add(pretrained_model)"
   ]
  },
  {
   "cell_type": "code",
   "execution_count": null,
   "metadata": {
    "id": "srQh3hWCCnrs"
   },
   "outputs": [],
   "source": [
    "resnet_model.add(Flatten())\n",
    "resnet_model.add(Dense(512, activation='relu'))\n",
    "resnet_model.add(Dense(12, activation='softmax'))"
   ]
  },
  {
   "cell_type": "markdown",
   "metadata": {
    "id": "wi3qxrpoCnrs"
   },
   "source": [
    "##### Now we need to train the model with batch size 16 "
   ]
  },
  {
   "cell_type": "code",
   "execution_count": null,
   "metadata": {
    "id": "FbK6mKkOCnrs"
   },
   "outputs": [],
   "source": [
    "resnet_model.compile(optimizer='adam', \n",
    "                     loss='categorical_crossentropy', \n",
    "                     metrics=['accuracy'])"
   ]
  },
  {
   "cell_type": "code",
   "execution_count": null,
   "metadata": {
    "colab": {
     "base_uri": "https://localhost:8080/"
    },
    "id": "rVnSLHesCnrs",
    "outputId": "bec97de1-5ee2-4c0c-ddee-b8b0b1b30e57"
   },
   "outputs": [
    {
     "name": "stdout",
     "output_type": "stream",
     "text": [
      "Epoch 1/15\n",
      "253/253 [==============================] - 23s 40ms/step - loss: 1.0939 - accuracy: 0.6463 - val_loss: 0.7835 - val_accuracy: 0.7504\n",
      "Epoch 2/15\n",
      "253/253 [==============================] - 7s 26ms/step - loss: 0.4837 - accuracy: 0.8288 - val_loss: 0.5174 - val_accuracy: 0.8191\n",
      "Epoch 3/15\n",
      "253/253 [==============================] - 7s 26ms/step - loss: 0.3292 - accuracy: 0.8898 - val_loss: 0.5573 - val_accuracy: 0.8247\n",
      "Epoch 4/15\n",
      "253/253 [==============================] - 7s 26ms/step - loss: 0.2185 - accuracy: 0.9207 - val_loss: 0.6017 - val_accuracy: 0.8219\n",
      "Epoch 5/15\n",
      "253/253 [==============================] - 7s 26ms/step - loss: 0.1500 - accuracy: 0.9470 - val_loss: 0.5904 - val_accuracy: 0.8177\n",
      "Epoch 6/15\n",
      "253/253 [==============================] - 7s 27ms/step - loss: 0.1481 - accuracy: 0.9462 - val_loss: 0.7313 - val_accuracy: 0.7826\n",
      "Epoch 7/15\n",
      "253/253 [==============================] - 7s 26ms/step - loss: 0.1192 - accuracy: 0.9574 - val_loss: 0.6197 - val_accuracy: 0.8331\n",
      "Epoch 8/15\n",
      "253/253 [==============================] - 7s 28ms/step - loss: 0.1097 - accuracy: 0.9623 - val_loss: 0.5916 - val_accuracy: 0.8471\n",
      "Epoch 9/15\n",
      "253/253 [==============================] - 7s 27ms/step - loss: 0.0744 - accuracy: 0.9752 - val_loss: 0.6923 - val_accuracy: 0.8429\n",
      "Epoch 10/15\n",
      "253/253 [==============================] - 7s 28ms/step - loss: 0.0688 - accuracy: 0.9755 - val_loss: 0.5980 - val_accuracy: 0.8457\n",
      "Epoch 11/15\n",
      "253/253 [==============================] - 7s 27ms/step - loss: 0.0926 - accuracy: 0.9690 - val_loss: 0.7887 - val_accuracy: 0.8359\n",
      "Epoch 12/15\n",
      "253/253 [==============================] - 7s 29ms/step - loss: 0.1559 - accuracy: 0.9542 - val_loss: 0.8247 - val_accuracy: 0.8359\n",
      "Epoch 13/15\n",
      "253/253 [==============================] - 7s 27ms/step - loss: 0.1000 - accuracy: 0.9661 - val_loss: 0.7132 - val_accuracy: 0.8401\n",
      "Epoch 14/15\n",
      "253/253 [==============================] - 7s 26ms/step - loss: 0.0505 - accuracy: 0.9844 - val_loss: 0.6780 - val_accuracy: 0.8569\n",
      "Epoch 15/15\n",
      "253/253 [==============================] - 7s 27ms/step - loss: 0.0250 - accuracy: 0.9928 - val_loss: 0.6075 - val_accuracy: 0.8682\n"
     ]
    }
   ],
   "source": [
    "resnet_history = resnet_model.fit(train_x, train_y,epochs=15,validation_data=(test_x,test_y), batch_size=16)"
   ]
  },
  {
   "cell_type": "markdown",
   "metadata": {
    "id": "ZSKq5mobCnrs"
   },
   "source": [
    "##### Original model Test Accuracy"
   ]
  },
  {
   "cell_type": "code",
   "execution_count": null,
   "metadata": {
    "colab": {
     "base_uri": "https://localhost:8080/"
    },
    "id": "YjU1H40lCnrt",
    "outputId": "0cb4a360-aa88-4416-9275-2f98124a2bdd"
   },
   "outputs": [
    {
     "name": "stdout",
     "output_type": "stream",
     "text": [
      "Resnet Baseline Dodel test accuracy: 86.81626915931702 %\n"
     ]
    }
   ],
   "source": [
    "_, baseline_model_accuracy = resnet_model.evaluate(\n",
    "    test_x, test_y, verbose=0)\n",
    "print('Resnet Baseline Dodel test accuracy:', (baseline_model_accuracy)*100, \"%\")"
   ]
  },
  {
   "cell_type": "code",
   "execution_count": null,
   "metadata": {
    "colab": {
     "base_uri": "https://localhost:8080/"
    },
    "id": "IAvxJn_OCnrt",
    "outputId": "a48e83e7-de91-4268-c7c2-d46be9965a17"
   },
   "outputs": [
    {
     "name": "stderr",
     "output_type": "stream",
     "text": [
      "WARNING:absl:Found untraced functions such as _jit_compiled_convolution_op, _jit_compiled_convolution_op, _jit_compiled_convolution_op, _jit_compiled_convolution_op, _jit_compiled_convolution_op while saving (showing 5 of 53). These functions will not be directly callable after loading.\n"
     ]
    }
   ],
   "source": [
    "tf.keras.models.save_model(\n",
    "    resnet_model,\n",
    "    '/content/drive/MyDrive/models_10/resnet',\n",
    "    overwrite=True,\n",
    "    include_optimizer=True\n",
    ")"
   ]
  },
  {
   "cell_type": "markdown",
   "metadata": {
    "id": "8Lvq7teiCnrt"
   },
   "source": [
    "##### Original Resnet50 Model size"
   ]
  },
  {
   "cell_type": "code",
   "execution_count": null,
   "metadata": {
    "colab": {
     "base_uri": "https://localhost:8080/"
    },
    "id": "1i9XsIqBCnrt",
    "outputId": "f904bb37-58b7-49f7-d8f2-b912768ed100"
   },
   "outputs": [
    {
     "name": "stdout",
     "output_type": "stream",
     "text": [
      "Model size is 111430451 Bytes\n"
     ]
    }
   ],
   "source": [
    "print(\"Model size is \"+ str(get_dir_size('/content/drive/MyDrive/models_10/resnet/resnet_model'))+ \" Bytes\")\n"
   ]
  },
  {
   "cell_type": "markdown",
   "metadata": {
    "id": "osdV3kkXCnrt"
   },
   "source": [
    "### **Model Optimization Using Tensorflow**"
   ]
  },
  {
   "cell_type": "markdown",
   "metadata": {
    "id": "-7Y7jY9bCnrt"
   },
   "source": [
    "#### **ResNet50 Tflite Conversion (Post Training Dynamic range quantization)**"
   ]
  },
  {
   "cell_type": "code",
   "execution_count": null,
   "metadata": {
    "colab": {
     "base_uri": "https://localhost:8080/"
    },
    "id": "giZ1Uks7Cnrt",
    "outputId": "60a760d7-2562-44e1-b395-c2275e89c864"
   },
   "outputs": [
    {
     "name": "stderr",
     "output_type": "stream",
     "text": [
      "WARNING:absl:Found untraced functions such as _jit_compiled_convolution_op, _jit_compiled_convolution_op, _jit_compiled_convolution_op, _jit_compiled_convolution_op, _jit_compiled_convolution_op while saving (showing 5 of 53). These functions will not be directly callable after loading.\n"
     ]
    }
   ],
   "source": [
    "# converting the model into tensorflow lite\n",
    "converter = tf.lite.TFLiteConverter.from_keras_model(resnet_model)\n",
    "converter.optimizations = [tf.lite.Optimize.DEFAULT]\n",
    "tflite_model = converter.convert()\n",
    "# Here we are saving the converted model in a file model.tflite\n",
    "with open('/content/drive/MyDrive/models_10/resnet/resnet.tflite','wb') as f:\n",
    "  f.write(tflite_model)"
   ]
  },
  {
   "cell_type": "markdown",
   "metadata": {
    "id": "wCeRARu1Cnru"
   },
   "source": [
    "##### Calculating the converted model accuracy"
   ]
  },
  {
   "cell_type": "code",
   "execution_count": null,
   "metadata": {
    "colab": {
     "base_uri": "https://localhost:8080/"
    },
    "id": "iEUk-8KiCnru",
    "outputId": "8c4ad1d1-3fbd-4b5b-f44e-a4dc3c3c08cb"
   },
   "outputs": [
    {
     "name": "stdout",
     "output_type": "stream",
     "text": [
      "Evaluated on 0 results so far.\n",
      "Evaluated on 100 results so far.\n",
      "Evaluated on 200 results so far.\n",
      "Evaluated on 300 results so far.\n",
      "Evaluated on 400 results so far.\n",
      "Evaluated on 500 results so far.\n",
      "Evaluated on 600 results so far.\n",
      "Evaluated on 700 results so far.\n",
      "\n",
      "\n",
      "Resnet50 tflite model test accuracy 85.69424964936886 %\n"
     ]
    }
   ],
   "source": [
    "# Here we are loading the converted model\n",
    "interpreter = tf.lite.Interpreter('/content/drive/MyDrive/models_10/resnet/resnet.tflite')\n",
    "# Here we are allocating the tensors to the converted model \n",
    "interpreter.allocate_tensors()\n",
    "test_accuracy = evaluate(interpreter, test_x)\n",
    "print('Resnet50 tflite model test accuracy '+ str(test_accuracy*100)+\" %\")"
   ]
  },
  {
   "cell_type": "markdown",
   "metadata": {
    "id": "etUp_DxqCnru"
   },
   "source": [
    "##### File size of Resnet50 tflite"
   ]
  },
  {
   "cell_type": "code",
   "execution_count": null,
   "metadata": {
    "colab": {
     "base_uri": "https://localhost:8080/"
    },
    "id": "dkT_ftjBCnru",
    "outputId": "a4fdd273-15ff-4b9a-d0a7-c87593cbd527"
   },
   "outputs": [
    {
     "name": "stdout",
     "output_type": "stream",
     "text": [
      "File Size of Resnet50 tflite is : 24985664 bytes\n"
     ]
    }
   ],
   "source": [
    "import os\n",
    "file_size = os.path.getsize('/content/drive/MyDrive/models_10/resnet/resnet.tflite')\n",
    "print(\"File Size of Resnet50 tflite is :\", file_size, \"bytes\")"
   ]
  },
  {
   "cell_type": "markdown",
   "metadata": {
    "id": "ZQp2I7qCCnru"
   },
   "source": [
    "#### **ResNet50 Model optimizing using pruning**"
   ]
  },
  {
   "cell_type": "code",
   "execution_count": null,
   "metadata": {
    "colab": {
     "base_uri": "https://localhost:8080/"
    },
    "id": "ahsJWlQgCnru",
    "outputId": "606c63d8-6b3e-47f6-9a3b-d1f9ae9daf52"
   },
   "outputs": [
    {
     "name": "stdout",
     "output_type": "stream",
     "text": [
      "Saved baseline model to: /content/drive/MyDrive/models_10/resnet/resnet_purning/resnet_purning.h5\n"
     ]
    }
   ],
   "source": [
    "model = resnet_model\n",
    "p_file='/content/drive/MyDrive/models_10/resnet/resnet_purning/resnet_purning'\n",
    "\n",
    "# creating a directory in tmp folder using tempfile library with the extension .h5 to save the model \n",
    "keras_file = p_file+\".h5\"\n",
    "tf.keras.models.save_model(model, keras_file, include_optimizer=False)\n",
    "print('Saved baseline model to:', keras_file)\n",
    "\n",
    "prune_low_magnitude = tfmot.sparsity.keras.prune_low_magnitude\n",
    "# instantiating the parameters for pruning\n",
    "# Here the pruning starts by removing 50 percentage of weights and gradualy increase the percentage of weights to decrease upto 80 percentage\n",
    "pruning_params = {\n",
    "      'pruning_schedule': tfmot.sparsity.keras.PolynomialDecay(initial_sparsity=0.50,\n",
    "                                                               final_sparsity=0.80,\n",
    "                                                               begin_step=0,\n",
    "                                                               end_step=250)\n",
    "}\n",
    "# creating the model for pruning with the previously trained model and previousl defined pruning params\n",
    "\n",
    "resnet_for_pruning__ = prune_low_magnitude(model, **pruning_params)\n",
    "# Compiling the model \n",
    "\n",
    "resnet_for_pruning__.compile(optimizer='adam',\n",
    "              loss='categorical_crossentropy',\n",
    "              metrics=['accuracy'])\n",
    "\n",
    "\n",
    "\n"
   ]
  },
  {
   "cell_type": "code",
   "execution_count": null,
   "metadata": {
    "colab": {
     "base_uri": "https://localhost:8080/"
    },
    "id": "L_PbrXW4Cnrv",
    "outputId": "fd429f2e-6526-4f4c-f0c9-dc9e447d211b"
   },
   "outputs": [
    {
     "metadata": {
      "tags": null
     },
     "name": "stdout",
     "output_type": "stream",
     "text": [
      "Epoch 1/15\n",
      "  6/253 [..............................] - ETA: 19s - loss: 0.0230 - accuracy: 1.0000"
     ]
    },
    {
     "metadata": {
      "tags": null
     },
     "name": "stderr",
     "output_type": "stream",
     "text": [
      "WARNING:tensorflow:Callback method `on_train_batch_end` is slow compared to the batch time (batch time: 0.0720s vs `on_train_batch_end` time: 0.3179s). Check your callbacks.\n"
     ]
    },
    {
     "name": "stdout",
     "output_type": "stream",
     "text": [
      "253/253 [==============================] - 73s 118ms/step - loss: 1.1938 - accuracy: 0.6842 - val_loss: 1.5239 - val_accuracy: 0.5175\n",
      "Epoch 2/15\n",
      "253/253 [==============================] - 20s 78ms/step - loss: 1.2558 - accuracy: 0.5591 - val_loss: 1.1445 - val_accuracy: 0.6143\n",
      "Epoch 3/15\n",
      "253/253 [==============================] - 19s 77ms/step - loss: 1.0542 - accuracy: 0.6272 - val_loss: 1.1105 - val_accuracy: 0.6045\n",
      "Epoch 4/15\n",
      "253/253 [==============================] - 19s 76ms/step - loss: 0.9256 - accuracy: 0.6810 - val_loss: 0.9907 - val_accuracy: 0.6690\n",
      "Epoch 5/15\n",
      "253/253 [==============================] - 25s 101ms/step - loss: 0.8567 - accuracy: 0.7013 - val_loss: 1.1004 - val_accuracy: 0.5989\n",
      "Epoch 6/15\n",
      "253/253 [==============================] - 22s 87ms/step - loss: 0.7917 - accuracy: 0.7260 - val_loss: 0.9186 - val_accuracy: 0.6760\n",
      "Epoch 7/15\n",
      "253/253 [==============================] - 19s 76ms/step - loss: 0.7126 - accuracy: 0.7511 - val_loss: 0.9359 - val_accuracy: 0.6676\n",
      "Epoch 8/15\n",
      "253/253 [==============================] - 19s 76ms/step - loss: 0.6679 - accuracy: 0.7721 - val_loss: 0.8869 - val_accuracy: 0.7125\n",
      "Epoch 9/15\n",
      "253/253 [==============================] - 19s 77ms/step - loss: 0.6591 - accuracy: 0.7632 - val_loss: 0.8563 - val_accuracy: 0.7181\n",
      "Epoch 10/15\n",
      "253/253 [==============================] - 21s 84ms/step - loss: 0.6081 - accuracy: 0.7870 - val_loss: 0.8549 - val_accuracy: 0.7153\n",
      "Epoch 11/15\n",
      "253/253 [==============================] - 19s 76ms/step - loss: 0.5566 - accuracy: 0.8098 - val_loss: 0.8391 - val_accuracy: 0.7419\n",
      "Epoch 12/15\n",
      "253/253 [==============================] - 20s 78ms/step - loss: 0.5209 - accuracy: 0.8229 - val_loss: 0.7893 - val_accuracy: 0.7588\n",
      "Epoch 13/15\n",
      "253/253 [==============================] - 20s 78ms/step - loss: 0.5083 - accuracy: 0.8259 - val_loss: 0.8220 - val_accuracy: 0.7363\n",
      "Epoch 14/15\n",
      "253/253 [==============================] - 20s 78ms/step - loss: 0.4704 - accuracy: 0.8387 - val_loss: 0.7965 - val_accuracy: 0.7195\n",
      "Epoch 15/15\n",
      "253/253 [==============================] - 20s 78ms/step - loss: 0.4338 - accuracy: 0.8521 - val_loss: 0.7731 - val_accuracy: 0.7588\n"
     ]
    },
    {
     "data": {
      "text/plain": [
       "<keras.callbacks.History at 0x7fa1fa325890>"
      ]
     },
     "execution_count": 33,
     "metadata": {},
     "output_type": "execute_result"
    }
   ],
   "source": [
    "logdir = '/content/drive/MyDrive/models_10/resnet/resnet_purning/'\n",
    "\n",
    "callbacks = [\n",
    "  tfmot.sparsity.keras.UpdatePruningStep(),\n",
    "  tfmot.sparsity.keras.PruningSummaries(log_dir=logdir),\n",
    "]\n",
    "\n",
    "# running the model \n",
    "resnet_for_pruning__.fit(train_x,\n",
    "                      train_y,\n",
    "                      validation_data=(test_x, test_y),\n",
    "                      epochs=15,\n",
    "                      callbacks=callbacks,\n",
    "                     batch_size=16\n",
    "                  )"
   ]
  },
  {
   "cell_type": "code",
   "execution_count": null,
   "metadata": {
    "colab": {
     "base_uri": "https://localhost:8080/"
    },
    "id": "VbC5UmCGCnrv",
    "outputId": "f0dc7d82-3f83-49cb-d951-b9b106b95798"
   },
   "outputs": [
    {
     "name": "stdout",
     "output_type": "stream",
     "text": [
      "Epoch 1/5\n",
      "  6/253 [..............................] - ETA: 19s - loss: 0.3493 - accuracy: 0.8750"
     ]
    },
    {
     "name": "stderr",
     "output_type": "stream",
     "text": [
      "WARNING:tensorflow:Callback method `on_train_batch_end` is slow compared to the batch time (batch time: 0.0713s vs `on_train_batch_end` time: 0.1419s). Check your callbacks.\n"
     ]
    },
    {
     "name": "stdout",
     "output_type": "stream",
     "text": [
      "253/253 [==============================] - 21s 81ms/step - loss: 0.4313 - accuracy: 0.8600 - val_loss: 0.8425 - val_accuracy: 0.7518\n",
      "Epoch 2/5\n",
      "253/253 [==============================] - 20s 79ms/step - loss: 0.3837 - accuracy: 0.8722 - val_loss: 0.8165 - val_accuracy: 0.7504\n",
      "Epoch 3/5\n",
      "253/253 [==============================] - 20s 79ms/step - loss: 0.3903 - accuracy: 0.8707 - val_loss: 0.8214 - val_accuracy: 0.7363\n",
      "Epoch 4/5\n",
      "253/253 [==============================] - 20s 79ms/step - loss: 0.3631 - accuracy: 0.8764 - val_loss: 0.8168 - val_accuracy: 0.7644\n",
      "Epoch 5/5\n",
      "253/253 [==============================] - 19s 77ms/step - loss: 0.3372 - accuracy: 0.8913 - val_loss: 0.7684 - val_accuracy: 0.7658\n"
     ]
    },
    {
     "data": {
      "text/plain": [
       "<keras.callbacks.History at 0x7fa0162ec990>"
      ]
     },
     "execution_count": 36,
     "metadata": {},
     "output_type": "execute_result"
    }
   ],
   "source": [
    "resnet_for_pruning__.fit(train_x,\n",
    "                      train_y,\n",
    "                      validation_data=(test_x, test_y),\n",
    "                      epochs=5,\n",
    "                      callbacks=callbacks,\n",
    "                     batch_size=16\n",
    "                  )"
   ]
  },
  {
   "cell_type": "markdown",
   "metadata": {
    "id": "rJa_vRctgSB7"
   },
   "source": [
    "##### Accuracy of the puring model"
   ]
  },
  {
   "cell_type": "code",
   "execution_count": null,
   "metadata": {
    "colab": {
     "base_uri": "https://localhost:8080/"
    },
    "id": "Wjbe6KCACnrv",
    "outputId": "3c674f50-dfab-4fb6-f6a5-016482fbc521"
   },
   "outputs": [
    {
     "name": "stdout",
     "output_type": "stream",
     "text": [
      "Resnet50 Purning Dodel test accuracy: 76.57784223556519 %\n"
     ]
    }
   ],
   "source": [
    "_, purning_model_accuracy = resnet_for_pruning__.evaluate(\n",
    "    test_x, test_y, verbose=0)\n",
    "print('Resnet50 Purning Dodel test accuracy:', (purning_model_accuracy)*100, \"%\")"
   ]
  },
  {
   "cell_type": "markdown",
   "metadata": {
    "id": "XuLPCkrwCnrv"
   },
   "source": [
    "##### File size of Resnet50 Pruning"
   ]
  },
  {
   "cell_type": "code",
   "execution_count": null,
   "metadata": {
    "colab": {
     "base_uri": "https://localhost:8080/"
    },
    "id": "9NUviOwuCnrv",
    "outputId": "6bb93629-b082-4eb4-9c3b-a2aac747ded9"
   },
   "outputs": [
    {
     "name": "stdout",
     "output_type": "stream",
     "text": [
      "Purning Model size is 113052736 Bytes\n"
     ]
    }
   ],
   "source": [
    "print(\"Purning Model size is \"+ str(get_dir_size('/content/drive/MyDrive/models_10/inception/inception_purning'))+ \" Bytes\")"
   ]
  },
  {
   "cell_type": "markdown",
   "metadata": {
    "id": "BRYn6-q-Cnrv"
   },
   "source": [
    "### **Optimization of Tensorflow Models with TensorRT**"
   ]
  },
  {
   "cell_type": "markdown",
   "metadata": {
    "id": "5Qy-dSRCZ8kW"
   },
   "source": [
    "#### TF-TRT FP32 model "
   ]
  },
  {
   "cell_type": "code",
   "execution_count": null,
   "metadata": {
    "id": "P0k7dEgOPywO"
   },
   "outputs": [],
   "source": [
    "converting_params = trt.DEFAULT_TRT_CONVERSION_PARAMS._replace(\n",
    "                                      precision_mode = trt.TrtPrecisionMode.FP32,\n",
    "                                      ) \n",
    "converter = trt.TrtGraphConverterV2(input_saved_model_dir = '/content/drive/MyDrive/models_10/resnet/resnet_model', \n",
    "                                    conversion_params= converting_params)\n",
    "converter.convert()\n",
    "converter.save(output_saved_model_dir = '/content/drive/MyDrive/models_10/resnet/FP32_resnet/')"
   ]
  },
  {
   "cell_type": "code",
   "execution_count": null,
   "metadata": {
    "id": "ilqQS8A7YcPE"
   },
   "outputs": [],
   "source": [
    "import tensorflow as tf\n",
    "import tensorflow_hub as hub\n",
    "fp32_resnet = tf.keras.Sequential([hub.KerasLayer(\"/content/drive/MyDrive/models_10/resnet/FP32_resnet\", trainable=True)\n",
    "    ])"
   ]
  },
  {
   "cell_type": "code",
   "execution_count": null,
   "metadata": {
    "id": "X8WboK6AZPkQ"
   },
   "outputs": [],
   "source": [
    "fp32_resnet.compile(optimizer='adam',loss='categorical_crossentropy',metrics=['accuracy'])"
   ]
  },
  {
   "cell_type": "code",
   "execution_count": null,
   "metadata": {
    "colab": {
     "base_uri": "https://localhost:8080/"
    },
    "id": "263FregcWc94",
    "outputId": "daf793f3-4846-4395-919b-d5837b12c0a0"
   },
   "outputs": [
    {
     "name": "stdout",
     "output_type": "stream",
     "text": [
      "TF-TRT FP32 of Resnet50 model Model test accuracy: 97.61570692062378 %\n"
     ]
    }
   ],
   "source": [
    "_, purning_model_accuracy = fp32_resnet.evaluate(\n",
    "    test_x, test_y, verbose=0)\n",
    "print('TF-TRT FP32 of Resnet50 model Model test accuracy:', (purning_model_accuracy)*100, \"%\")"
   ]
  },
  {
   "cell_type": "markdown",
   "metadata": {
    "id": "JRnSUmyOaAQY"
   },
   "source": [
    "#### TF-TRT FP16 model "
   ]
  },
  {
   "cell_type": "code",
   "execution_count": null,
   "metadata": {
    "colab": {
     "base_uri": "https://localhost:8080/"
    },
    "id": "bRs64gWraAQY",
    "outputId": "af3246f1-7b82-4053-c17d-f3543e78cf08"
   },
   "outputs": [
    {
     "name": "stderr",
     "output_type": "stream",
     "text": [
      "WARNING:tensorflow:From /usr/local/lib/python3.7/dist-packages/tensorflow_core/python/ops/resource_variable_ops.py:1781: calling BaseResourceVariable.__init__ (from tensorflow.python.ops.resource_variable_ops) with constraint is deprecated and will be removed in a future version.\n",
      "Instructions for updating:\n",
      "If using Keras pass *_constraint arguments to layers.\n"
     ]
    }
   ],
   "source": [
    "converting_params = trt.DEFAULT_TRT_CONVERSION_PARAMS._replace(\n",
    "                                      precision_mode = trt.TrtPrecisionMode.FP16,\n",
    "                                      ) \n",
    "converter = trt.TrtGraphConverterV2(input_saved_model_dir = '/content/drive/MyDrive/models_10/resnet/resnet_model', \n",
    "                                    conversion_params= converting_params)\n",
    "converter.convert()\n",
    "converter.save(output_saved_model_dir = '/content/drive/MyDrive/models_10/resnet/FP16__resnet/')"
   ]
  },
  {
   "cell_type": "code",
   "execution_count": null,
   "metadata": {
    "id": "58U6gqSCaAQY"
   },
   "outputs": [],
   "source": [
    "import tensorflow as tf\n",
    "import tensorflow_hub as hub\n",
    "fp16_resnet_ = tf.keras.Sequential([hub.KerasLayer(\"/content/drive/MyDrive/models_10/resnet/FP16__resnet\", trainable=True)\n",
    "    ])"
   ]
  },
  {
   "cell_type": "code",
   "execution_count": null,
   "metadata": {
    "id": "Ws9h6xJPaAQY"
   },
   "outputs": [],
   "source": [
    "fp16_resnet_.compile(optimizer='adam',loss='categorical_crossentropy',metrics=['accuracy'])"
   ]
  },
  {
   "cell_type": "code",
   "execution_count": null,
   "metadata": {
    "colab": {
     "base_uri": "https://localhost:8080/"
    },
    "id": "fkD8eur5aAQY",
    "outputId": "f8847687-8c70-4524-9490-990f9a9556bc"
   },
   "outputs": [
    {
     "name": "stdout",
     "output_type": "stream",
     "text": [
      "TF-TRT FP16 of Resnet50 model Model test accuracy: 98.17671775817871 %\n"
     ]
    }
   ],
   "source": [
    "_, purning_model_accuracy = fp16_resnet_.evaluate(\n",
    "    test_x, test_y, verbose=0)\n",
    "print('TF-TRT FP16 of Resnet50 model Model test accuracy:', (purning_model_accuracy)*100, \"%\")"
   ]
  },
  {
   "cell_type": "markdown",
   "metadata": {
    "id": "nx16VaH7aAff"
   },
   "source": [
    "#### TF-TRT FP8 model "
   ]
  },
  {
   "cell_type": "code",
   "execution_count": null,
   "metadata": {
    "id": "_W-SUTuCaAff"
   },
   "outputs": [],
   "source": [
    "converting_params = trt.DEFAULT_TRT_CONVERSION_PARAMS._replace(\n",
    "                                      precision_mode = trt.TrtPrecisionMode.FP8,\n",
    "                                      ) \n",
    "converter = trt.TrtGraphConverterV2(input_saved_model_dir = '/content/drive/MyDrive/models_10/resnet/resnet_model', \n",
    "                                    conversion_params= converting_params)\n",
    "converter.convert()\n",
    "converter.save(output_saved_model_dir = '/content/drive/MyDrive/models_10/resnet/FP8_resnet/')"
   ]
  },
  {
   "cell_type": "code",
   "execution_count": null,
   "metadata": {
    "id": "22HJokr6aAff"
   },
   "outputs": [],
   "source": [
    "import tensorflow as tf\n",
    "import tensorflow_hub as hub\n",
    "fp32_resnet = tf.keras.Sequential([hub.KerasLayer(\"/content/drive/MyDrive/models_10/resnet/FP8_resnet\", trainable=True)\n",
    "    ])"
   ]
  },
  {
   "cell_type": "code",
   "execution_count": null,
   "metadata": {
    "id": "VRoijV5EaAff"
   },
   "outputs": [],
   "source": [
    "fp8_resnet.compile(optimizer='adam',loss='categorical_crossentropy',metrics=['accuracy'])"
   ]
  },
  {
   "cell_type": "code",
   "execution_count": null,
   "metadata": {
    "colab": {
     "base_uri": "https://localhost:8080/"
    },
    "id": "OwQCHekQ0msz",
    "outputId": "f777dec8-0a31-4a52-b767-dad7649797af"
   },
   "outputs": [
    {
     "name": "stdout",
     "output_type": "stream",
     "text": [
      "TRT FP8 of Resnet50 model Model test accuracy: 98.47364274920178 %\n"
     ]
    }
   ],
   "source": [
    "_, purning_model_accuracy = fp8_resnet.evaluate(\n",
    "    test_x, test_y, verbose=0)\n",
    "print('TF-TRT FP32 of Resnet50 model Model test accuracy:', (purning_model_accuracy)*100, \"%\")"
   ]
  },
  {
   "cell_type": "markdown",
   "metadata": {
    "id": "B3Vr0m7tp0pl"
   },
   "source": [
    "### **OBSERVATIONS**"
   ]
  },
  {
   "cell_type": "markdown",
   "metadata": {
    "id": "poCd2lUjqJS-"
   },
   "source": [
    "#### Models Accuracy"
   ]
  },
  {
   "cell_type": "code",
   "execution_count": null,
   "metadata": {
    "colab": {
     "base_uri": "https://localhost:8080/",
     "height": 612
    },
    "id": "qT_n2a8qj2aq",
    "outputId": "14686e1d-6640-43d5-f903-d8ffb9e3619b"
   },
   "outputs": [
    {
     "data": {
      "text/plain": [
       "<matplotlib.axes._subplots.AxesSubplot at 0x7f1ccb3c9d50>"
      ]
     },
     "execution_count": 4,
     "metadata": {},
     "output_type": "execute_result"
    },
    {
     "data": {
      "image/png": "[encoded data removed]",
      "text/plain": [
       "<Figure size 1152x720 with 1 Axes>"
      ]
     },
     "metadata": {},
     "output_type": "display_data"
    }
   ],
   "source": [
    "plt.figure(figsize=(16, 10))\n",
    "labels = ['Base Model ResNet50', 'ResNet50 Tflite Model', 'ResNet50 Purning Model', 'ResNet50 TRT FP32', 'ResNet50 TRT FP16', 'ResNet50 TRT FP8']\n",
    "values = [86.81626915931702 ,85.69424964936886, 76.5778422355651 ,97.61570692062378 ,98.17671775817871,98.47364274920178]\n",
    "plt.xlabel('MODELS')\n",
    "plt.ylabel('ACCURACY')\n",
    "plt.gca().set_title(\"MODELS ACCURACY\")\n",
    "sns.barplot(x=labels, y=values)"
   ]
  },
  {
   "cell_type": "markdown",
   "metadata": {
    "id": "47fxZMLiqPYg"
   },
   "source": [
    "#### Models Size"
   ]
  },
  {
   "cell_type": "code",
   "execution_count": null,
   "metadata": {
    "colab": {
     "base_uri": "https://localhost:8080/",
     "height": 643
    },
    "id": "d-flqernj31V",
    "outputId": "e4220f41-0f38-4ef0-c028-6a5dc07ae0cd"
   },
   "outputs": [
    {
     "data": {
      "text/plain": [
       "<matplotlib.axes._subplots.AxesSubplot at 0x7f1ccb3c3b10>"
      ]
     },
     "execution_count": 7,
     "metadata": {},
     "output_type": "execute_result"
    },
    {
     "data": {
      "image/png": "[encoded data removed]",
      "text/plain": [
       "<Figure size 1008x720 with 1 Axes>"
      ]
     },
     "metadata": {},
     "output_type": "display_data"
    }
   ],
   "source": [
    "plt.figure(figsize=(14, 10))\n",
    "labels = ['Base Model ResNet50', 'ResNet50 Tflite Model', 'ResNet50 Purning Model']\n",
    "values = [111430451 , 24985664 ,111052736 ]\n",
    "plt.ylim([0,120000000])\n",
    "plt.xlabel('MODELS')\n",
    "plt.ylabel('SIZE(bytes)')\n",
    "plt.gca().set_title(\"MODELS SIZE\")\n",
    "sns.barplot(x=labels, y=values)"
   ]
  },
  {
   "cell_type": "markdown",
   "metadata": {
    "id": "3q49IQTJql0v"
   },
   "source": [
    "## THANK YOU :D"
   ]
  }
 ],
 "metadata": {
  "accelerator": "TPU",
  "colab": {
   "provenance": []
  },
  "gpuClass": "standard",
  "kernelspec": {
   "display_name": "Python 3 (ipykernel)",
   "language": "python",
   "name": "python3"
  },
  "language_info": {
   "codemirror_mode": {
    "name": "ipython",
    "version": 3
   },
   "file_extension": ".py",
   "mimetype": "text/x-python",
   "name": "python",
   "nbconvert_exporter": "python",
   "pygments_lexer": "ipython3",
   "version": "3.9.12"
  }
 },
 "nbformat": 4,
 "nbformat_minor": 1
}
